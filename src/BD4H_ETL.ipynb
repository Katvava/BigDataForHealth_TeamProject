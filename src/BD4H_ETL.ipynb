{
  "nbformat": 4,
  "nbformat_minor": 0,
  "metadata": {
    "colab": {
      "name": "BD4H_ETL.ipynb",
      "provenance": [],
      "collapsed_sections": [],
      "toc_visible": true,
      "machine_shape": "hm"
    },
    "kernelspec": {
      "name": "python3",
      "display_name": "Python 3"
    },
    "accelerator": "GPU"
  },
  "cells": [
    {
      "cell_type": "markdown",
      "metadata": {
        "id": "dFNVyyZ6nNtM",
        "colab_type": "text"
      },
      "source": [
        "## Setup Spark Enviornment"
      ]
    },
    {
      "cell_type": "code",
      "metadata": {
        "id": "1977LgdkY4YM",
        "colab_type": "code",
        "colab": {}
      },
      "source": [
        "# setup spark enviornment on google colab\n",
        "!apt-get install openjdk-8-jdk-headless -qq > /dev/null\n",
        "!wget -q http://www-eu.apache.org/dist/spark/spark-2.4.4/spark-2.4.4-bin-hadoop2.7.tgz\n",
        "!tar xf spark-2.4.4-bin-hadoop2.7.tgz\n",
        "!pip install -q findspark"
      ],
      "execution_count": 0,
      "outputs": []
    },
    {
      "cell_type": "markdown",
      "metadata": {
        "id": "52PHoXhmdiaq",
        "colab_type": "text"
      },
      "source": [
        "## Load Spark Session"
      ]
    },
    {
      "cell_type": "code",
      "metadata": {
        "id": "OJeRQvBqZUmX",
        "colab_type": "code",
        "colab": {}
      },
      "source": [
        "import os\n",
        "os.environ[\"JAVA_HOME\"] = \"/usr/lib/jvm/java-8-openjdk-amd64\"\n",
        "os.environ[\"SPARK_HOME\"] = \"/content/spark-2.4.4-bin-hadoop2.7\""
      ],
      "execution_count": 0,
      "outputs": []
    },
    {
      "cell_type": "code",
      "metadata": {
        "id": "WA910uPgZqo4",
        "colab_type": "code",
        "colab": {}
      },
      "source": [
        "import findspark\n",
        "findspark.init(\"spark-2.4.4-bin-hadoop2.7\")  # SPARK_HOME\n",
        "#from pyspark.sql import SparkSession\n",
        "from pyspark.sql import *\n",
        "from pyspark.sql.functions import col, asc, desc\n",
        "import pyspark.sql.functions as F\n",
        "import sys"
      ],
      "execution_count": 0,
      "outputs": []
    },
    {
      "cell_type": "code",
      "metadata": {
        "id": "1W7fQsPo__fd",
        "colab_type": "code",
        "colab": {}
      },
      "source": [
        "# from pyspark import SparkContext\n",
        "# sc = SparkContext(\"local\", \"BD4H\")"
      ],
      "execution_count": 0,
      "outputs": []
    },
    {
      "cell_type": "code",
      "metadata": {
        "id": "7TfV2O4__vfm",
        "colab_type": "code",
        "outputId": "d78eb18d-d03f-4624-defb-d699459865d6",
        "colab": {
          "base_uri": "https://localhost:8080/",
          "height": 190
        }
      },
      "source": [
        "# spark._conf.get('spark.driver.memory')\n",
        "# spark.sparkContext.stop()\n",
        "spark = SparkSession.builder.master(\"local[*]\").getOrCreate()\n",
        "\n",
        "spark.sparkContext._conf.getAll()"
      ],
      "execution_count": 0,
      "outputs": [
        {
          "output_type": "execute_result",
          "data": {
            "text/plain": [
              "[('spark.app.id', 'local-1575620858464'),\n",
              " ('spark.driver.host', 'e2f181e313d4'),\n",
              " ('spark.rdd.compress', 'True'),\n",
              " ('spark.driver.port', '38743'),\n",
              " ('spark.serializer.objectStreamReset', '100'),\n",
              " ('spark.master', 'local[*]'),\n",
              " ('spark.executor.id', 'driver'),\n",
              " ('spark.submit.deployMode', 'client'),\n",
              " ('spark.ui.showConsoleProgress', 'true'),\n",
              " ('spark.app.name', 'pyspark-shell')]"
            ]
          },
          "metadata": {
            "tags": []
          },
          "execution_count": 5
        }
      ]
    },
    {
      "cell_type": "code",
      "metadata": {
        "id": "mYv6UvkcB490",
        "colab_type": "code",
        "colab": {}
      },
      "source": [
        "# config sparksession\n",
        "\n",
        "# conf = spark.sparkContext._conf.setAll([('spark.executor.memory', '16g'),\n",
        "#                                         ('spark.app.name', 'Spark Updated Conf'),\n",
        "#                                         ('spark.executor.cores', '4'),\n",
        "#                                         ('spark.cores.max', '4'),\n",
        "#                                         ('spark.driver.memory','16g')])\n",
        "# spark.sparkContext.stop()\n",
        "# spark = SparkSession.builder.master(\"local[*]\").config(conf=conf).getOrCreate()"
      ],
      "execution_count": 0,
      "outputs": []
    },
    {
      "cell_type": "markdown",
      "metadata": {
        "id": "J7M10tLjdweO",
        "colab_type": "text"
      },
      "source": [
        "## Load data from google drive"
      ]
    },
    {
      "cell_type": "code",
      "metadata": {
        "id": "4PRI_Gl-uxxE",
        "colab_type": "code",
        "outputId": "b4d6221a-528f-4353-d432-1b4837123386",
        "colab": {
          "base_uri": "https://localhost:8080/",
          "height": 124
        }
      },
      "source": [
        "# connect google drive\n",
        "from google.colab import drive\n",
        "drive.mount('/content/drive', force_remount=True)"
      ],
      "execution_count": 0,
      "outputs": [
        {
          "output_type": "stream",
          "text": [
            "Go to this URL in a browser: https://accounts.google.com/o/oauth2/auth?client_id=947318989803-6bn6qk8qdgf4n4g3pfee6491hc0brc4i.apps.googleusercontent.com&redirect_uri=urn%3aietf%3awg%3aoauth%3a2.0%3aoob&response_type=code&scope=email%20https%3a%2f%2fwww.googleapis.com%2fauth%2fdocs.test%20https%3a%2f%2fwww.googleapis.com%2fauth%2fdrive%20https%3a%2f%2fwww.googleapis.com%2fauth%2fdrive.photos.readonly%20https%3a%2f%2fwww.googleapis.com%2fauth%2fpeopleapi.readonly\n",
            "\n",
            "Enter your authorization code:\n",
            "··········\n",
            "Mounted at /content/drive\n"
          ],
          "name": "stdout"
        }
      ]
    },
    {
      "cell_type": "code",
      "metadata": {
        "id": "jHT0pbpIuyqd",
        "colab_type": "code",
        "outputId": "97458ed7-3dc9-4ae8-a79f-588e44c2e4e3",
        "colab": {
          "base_uri": "https://localhost:8080/",
          "height": 121
        }
      },
      "source": [
        "# copy data from google drive to colab\n",
        "cp -rvf drive/My\\ Drive/mimic-iii-clinical-database-1.4 ."
      ],
      "execution_count": 0,
      "outputs": [
        {
          "output_type": "stream",
          "text": [
            "'drive/My Drive/mimic-iii-clinical-database-1.4' -> './mimic-iii-clinical-database-1.4'\n",
            "'drive/My Drive/mimic-iii-clinical-database-1.4/.DS_Store' -> './mimic-iii-clinical-database-1.4/.DS_Store'\n",
            "'drive/My Drive/mimic-iii-clinical-database-1.4/CAREGIVERS.csv' -> './mimic-iii-clinical-database-1.4/CAREGIVERS.csv'\n",
            "'drive/My Drive/mimic-iii-clinical-database-1.4/CALLOUT.csv' -> './mimic-iii-clinical-database-1.4/CALLOUT.csv'\n",
            "'drive/My Drive/mimic-iii-clinical-database-1.4/ADMISSIONS.csv' -> './mimic-iii-clinical-database-1.4/ADMISSIONS.csv'\n",
            "'drive/My Drive/mimic-iii-clinical-database-1.4/NOTEEVENTS.csv' -> './mimic-iii-clinical-database-1.4/NOTEEVENTS.csv'\n"
          ],
          "name": "stdout"
        }
      ]
    },
    {
      "cell_type": "markdown",
      "metadata": {
        "id": "NZBiZTmBv6u-",
        "colab_type": "text"
      },
      "source": [
        "# **Data Preparation**"
      ]
    },
    {
      "cell_type": "markdown",
      "metadata": {
        "id": "eO4gCcm8d6Sx",
        "colab_type": "text"
      },
      "source": [
        "### Load admission table"
      ]
    },
    {
      "cell_type": "code",
      "metadata": {
        "id": "eJUSqB9DvDEP",
        "colab_type": "code",
        "colab": {}
      },
      "source": [
        "# import org.apache.spark.sql.functions._\n",
        "# import sqlContext.implicits._\n",
        "\n",
        "admission_file_path = './mimic-iii-clinical-database-1.4/ADMISSIONS.csv'\n",
        "df_admission = spark.read.csv(admission_file_path, inferSchema=True, header=True)"
      ],
      "execution_count": 0,
      "outputs": []
    },
    {
      "cell_type": "code",
      "metadata": {
        "id": "P0uViBqXkoWS",
        "colab_type": "code",
        "outputId": "4a6e8850-4603-4e08-9ad3-12e0a7fc5af4",
        "colab": {
          "base_uri": "https://localhost:8080/",
          "height": 380
        }
      },
      "source": [
        "df_admission.printSchema()"
      ],
      "execution_count": 0,
      "outputs": [
        {
          "output_type": "stream",
          "text": [
            "root\n",
            " |-- ROW_ID: integer (nullable = true)\n",
            " |-- SUBJECT_ID: integer (nullable = true)\n",
            " |-- HADM_ID: integer (nullable = true)\n",
            " |-- ADMITTIME: timestamp (nullable = true)\n",
            " |-- DISCHTIME: timestamp (nullable = true)\n",
            " |-- DEATHTIME: timestamp (nullable = true)\n",
            " |-- ADMISSION_TYPE: string (nullable = true)\n",
            " |-- ADMISSION_LOCATION: string (nullable = true)\n",
            " |-- DISCHARGE_LOCATION: string (nullable = true)\n",
            " |-- INSURANCE: string (nullable = true)\n",
            " |-- LANGUAGE: string (nullable = true)\n",
            " |-- RELIGION: string (nullable = true)\n",
            " |-- MARITAL_STATUS: string (nullable = true)\n",
            " |-- ETHNICITY: string (nullable = true)\n",
            " |-- EDREGTIME: timestamp (nullable = true)\n",
            " |-- EDOUTTIME: timestamp (nullable = true)\n",
            " |-- DIAGNOSIS: string (nullable = true)\n",
            " |-- HOSPITAL_EXPIRE_FLAG: integer (nullable = true)\n",
            " |-- HAS_CHARTEVENTS_DATA: integer (nullable = true)\n",
            "\n"
          ],
          "name": "stdout"
        }
      ]
    },
    {
      "cell_type": "code",
      "metadata": {
        "id": "hmebyYavlPIT",
        "colab_type": "code",
        "outputId": "0b96ac14-b665-4212-eec0-aa2b00f9173a",
        "colab": {
          "base_uri": "https://localhost:8080/",
          "height": 314
        }
      },
      "source": [
        "df_admission.show(10)"
      ],
      "execution_count": 0,
      "outputs": [
        {
          "output_type": "stream",
          "text": [
            "+------+----------+-------+-------------------+-------------------+-------------------+--------------+--------------------+--------------------+---------+--------+-----------------+--------------+--------------------+-------------------+-------------------+--------------------+--------------------+--------------------+\n",
            "|ROW_ID|SUBJECT_ID|HADM_ID|          ADMITTIME|          DISCHTIME|          DEATHTIME|ADMISSION_TYPE|  ADMISSION_LOCATION|  DISCHARGE_LOCATION|INSURANCE|LANGUAGE|         RELIGION|MARITAL_STATUS|           ETHNICITY|          EDREGTIME|          EDOUTTIME|           DIAGNOSIS|HOSPITAL_EXPIRE_FLAG|HAS_CHARTEVENTS_DATA|\n",
            "+------+----------+-------+-------------------+-------------------+-------------------+--------------+--------------------+--------------------+---------+--------+-----------------+--------------+--------------------+-------------------+-------------------+--------------------+--------------------+--------------------+\n",
            "|    21|        22| 165315|2196-04-09 12:26:00|2196-04-10 15:54:00|               null|     EMERGENCY|EMERGENCY ROOM ADMIT|DISC-TRAN CANCER/...|  Private|    null|     UNOBTAINABLE|       MARRIED|               WHITE|2196-04-09 10:06:00|2196-04-09 13:24:00|BENZODIAZEPINE OV...|                   0|                   1|\n",
            "|    22|        23| 152223|2153-09-03 07:15:00|2153-09-08 19:10:00|               null|      ELECTIVE|PHYS REFERRAL/NOR...|    HOME HEALTH CARE| Medicare|    null|         CATHOLIC|       MARRIED|               WHITE|               null|               null|CORONARY ARTERY D...|                   0|                   1|\n",
            "|    23|        23| 124321|2157-10-18 19:34:00|2157-10-25 14:00:00|               null|     EMERGENCY|TRANSFER FROM HOS...|    HOME HEALTH CARE| Medicare|    ENGL|         CATHOLIC|       MARRIED|               WHITE|               null|               null|          BRAIN MASS|                   0|                   1|\n",
            "|    24|        24| 161859|2139-06-06 16:14:00|2139-06-09 12:48:00|               null|     EMERGENCY|TRANSFER FROM HOS...|                HOME|  Private|    null|PROTESTANT QUAKER|        SINGLE|               WHITE|               null|               null|INTERIOR MYOCARDI...|                   0|                   1|\n",
            "|    25|        25| 129635|2160-11-02 02:06:00|2160-11-05 14:55:00|               null|     EMERGENCY|EMERGENCY ROOM ADMIT|                HOME|  Private|    null|     UNOBTAINABLE|       MARRIED|               WHITE|2160-11-02 01:01:00|2160-11-02 04:27:00|ACUTE CORONARY SY...|                   0|                   1|\n",
            "|    26|        26| 197661|2126-05-06 15:16:00|2126-05-13 15:00:00|               null|     EMERGENCY|TRANSFER FROM HOS...|                HOME| Medicare|    null|         CATHOLIC|        SINGLE|UNKNOWN/NOT SPECI...|               null|               null|              V-TACH|                   0|                   1|\n",
            "|    27|        27| 134931|2191-11-30 22:16:00|2191-12-03 14:45:00|               null|       NEWBORN|PHYS REFERRAL/NOR...|                HOME|  Private|    null|         CATHOLIC|          null|               WHITE|               null|               null|             NEWBORN|                   0|                   1|\n",
            "|    28|        28| 162569|2177-09-01 07:15:00|2177-09-06 16:00:00|               null|      ELECTIVE|PHYS REFERRAL/NOR...|    HOME HEALTH CARE| Medicare|    null|         CATHOLIC|       MARRIED|               WHITE|               null|               null|CORONARY ARTERY D...|                   0|                   1|\n",
            "|    29|        30| 104557|2172-10-14 14:17:00|2172-10-19 14:37:00|               null|        URGENT|TRANSFER FROM HOS...|    HOME HEALTH CARE| Medicare|    null|         CATHOLIC|       MARRIED|UNKNOWN/NOT SPECI...|               null|               null|UNSTABLE ANGINA\\CATH|                   0|                   1|\n",
            "|    30|        31| 128652|2108-08-22 23:27:00|2108-08-30 15:00:00|2108-08-30 15:00:00|     EMERGENCY|TRANSFER FROM HOS...|        DEAD/EXPIRED| Medicare|    null|         CATHOLIC|       MARRIED|               WHITE|               null|               null|  STATUS EPILEPTICUS|                   1|                   1|\n",
            "+------+----------+-------+-------------------+-------------------+-------------------+--------------+--------------------+--------------------+---------+--------+-----------------+--------------+--------------------+-------------------+-------------------+--------------------+--------------------+--------------------+\n",
            "only showing top 10 rows\n",
            "\n"
          ],
          "name": "stdout"
        }
      ]
    },
    {
      "cell_type": "code",
      "metadata": {
        "id": "mC3Vak6fxrIp",
        "colab_type": "code",
        "outputId": "f4b29ffb-014b-4529-c98b-5907bc39d8da",
        "colab": {
          "base_uri": "https://localhost:8080/",
          "height": 294
        }
      },
      "source": [
        "selected_columns = ('SUBJECT_ID', 'HADM_ID', 'ADMITTIME', 'DISCHTIME', 'DEATHTIME', 'ADMISSION_TYPE')\n",
        "df_admission_selected = df_admission.select(*selected_columns)\n",
        "df_admission_selected.show(10)"
      ],
      "execution_count": 0,
      "outputs": [
        {
          "output_type": "stream",
          "text": [
            "+----------+-------+-------------------+-------------------+-------------------+--------------+\n",
            "|SUBJECT_ID|HADM_ID|          ADMITTIME|          DISCHTIME|          DEATHTIME|ADMISSION_TYPE|\n",
            "+----------+-------+-------------------+-------------------+-------------------+--------------+\n",
            "|        22| 165315|2196-04-09 12:26:00|2196-04-10 15:54:00|               null|     EMERGENCY|\n",
            "|        23| 152223|2153-09-03 07:15:00|2153-09-08 19:10:00|               null|      ELECTIVE|\n",
            "|        23| 124321|2157-10-18 19:34:00|2157-10-25 14:00:00|               null|     EMERGENCY|\n",
            "|        24| 161859|2139-06-06 16:14:00|2139-06-09 12:48:00|               null|     EMERGENCY|\n",
            "|        25| 129635|2160-11-02 02:06:00|2160-11-05 14:55:00|               null|     EMERGENCY|\n",
            "|        26| 197661|2126-05-06 15:16:00|2126-05-13 15:00:00|               null|     EMERGENCY|\n",
            "|        27| 134931|2191-11-30 22:16:00|2191-12-03 14:45:00|               null|       NEWBORN|\n",
            "|        28| 162569|2177-09-01 07:15:00|2177-09-06 16:00:00|               null|      ELECTIVE|\n",
            "|        30| 104557|2172-10-14 14:17:00|2172-10-19 14:37:00|               null|        URGENT|\n",
            "|        31| 128652|2108-08-22 23:27:00|2108-08-30 15:00:00|2108-08-30 15:00:00|     EMERGENCY|\n",
            "+----------+-------+-------------------+-------------------+-------------------+--------------+\n",
            "only showing top 10 rows\n",
            "\n"
          ],
          "name": "stdout"
        }
      ]
    },
    {
      "cell_type": "code",
      "metadata": {
        "id": "6rlr5_DwBFCN",
        "colab_type": "code",
        "outputId": "39872e7c-8482-46c1-f3c1-fcc1d0a3a314",
        "colab": {
          "base_uri": "https://localhost:8080/",
          "height": 294
        }
      },
      "source": [
        "# sort by subject_ID and admission date\n",
        "df_admission_sorted = df_admission_selected.sort(asc('SUBJECT_ID'), asc('ADMITTIME'))\n",
        "df_admission_sorted.show(10)"
      ],
      "execution_count": 0,
      "outputs": [
        {
          "output_type": "stream",
          "text": [
            "+----------+-------+-------------------+-------------------+-------------------+--------------+\n",
            "|SUBJECT_ID|HADM_ID|          ADMITTIME|          DISCHTIME|          DEATHTIME|ADMISSION_TYPE|\n",
            "+----------+-------+-------------------+-------------------+-------------------+--------------+\n",
            "|         2| 163353|2138-07-17 19:04:00|2138-07-21 15:48:00|               null|       NEWBORN|\n",
            "|         3| 145834|2101-10-20 19:08:00|2101-10-31 13:58:00|               null|     EMERGENCY|\n",
            "|         4| 185777|2191-03-16 00:28:00|2191-03-23 18:41:00|               null|     EMERGENCY|\n",
            "|         5| 178980|2103-02-02 04:31:00|2103-02-04 12:15:00|               null|       NEWBORN|\n",
            "|         6| 107064|2175-05-30 07:15:00|2175-06-15 16:00:00|               null|      ELECTIVE|\n",
            "|         7| 118037|2121-05-23 15:05:00|2121-05-27 11:57:00|               null|       NEWBORN|\n",
            "|         8| 159514|2117-11-20 10:22:00|2117-11-24 14:20:00|               null|       NEWBORN|\n",
            "|         9| 150750|2149-11-09 13:06:00|2149-11-14 10:15:00|2149-11-14 10:15:00|     EMERGENCY|\n",
            "|        10| 184167|2103-06-28 11:36:00|2103-07-06 12:10:00|               null|       NEWBORN|\n",
            "|        11| 194540|2178-04-16 06:18:00|2178-05-11 19:00:00|               null|     EMERGENCY|\n",
            "+----------+-------+-------------------+-------------------+-------------------+--------------+\n",
            "only showing top 10 rows\n",
            "\n"
          ],
          "name": "stdout"
        }
      ]
    },
    {
      "cell_type": "code",
      "metadata": {
        "id": "Y9gRMneC4ALa",
        "colab_type": "code",
        "colab": {}
      },
      "source": [
        "df_admission_sorted.createOrReplaceTempView(\"admission_sorted\")\n",
        "df_admission_row_num = spark.sql(\"\"\"\n",
        "    select *, row_number() over(partition by SUBJECT_ID order by ADMITTIME) as row_num from admission_sorted\n",
        "\"\"\")\n",
        "\n",
        "df_admission_row_num.createOrReplaceTempView(\"admission_row_num\")"
      ],
      "execution_count": 0,
      "outputs": []
    },
    {
      "cell_type": "code",
      "metadata": {
        "id": "Xkz6w7gQ7nTl",
        "colab_type": "code",
        "colab": {}
      },
      "source": [
        "df_admission_shifted = spark.sql(\"\"\" \n",
        "select SUBJECT_ID,\n",
        "    HADM_ID,\n",
        "    DISCHTIME,\n",
        "    DEATHTIME,\n",
        "    ADMITTIME,\n",
        "    ADMISSION_TYPE,\n",
        "    case when NEXT_ADMISSION_TYPE IS NULL then NULL else NEXT_ADMITTIME end as NEXT_ADMITTIME,\n",
        "    NEXT_ADMISSION_TYPE\n",
        "from(\n",
        "select t1.*, \n",
        "       t2.ADMITTIME AS NEXT_ADMITTIME, \n",
        "       CASE WHEN t2.ADMISSION_TYPE='ELECTIVE' THEN NULL else t2.ADMISSION_TYPE end as NEXT_ADMISSION_TYPE \n",
        "from admission_row_num t1 left join admission_row_num t2 on t1.SUBJECT_ID = t2.SUBJECT_ID AND t2.row_num -1 = t1.row_num) subt\n",
        "\"\"\")"
      ],
      "execution_count": 0,
      "outputs": []
    },
    {
      "cell_type": "code",
      "metadata": {
        "id": "LG1zo50h9aLC",
        "colab_type": "code",
        "outputId": "7fbfb237-2737-47d0-9f43-fff3731cfbdc",
        "colab": {
          "base_uri": "https://localhost:8080/",
          "height": 55
        }
      },
      "source": [
        "df_admission_shifted.head()"
      ],
      "execution_count": 0,
      "outputs": [
        {
          "output_type": "execute_result",
          "data": {
            "text/plain": [
              "Row(SUBJECT_ID=148, HADM_ID=199488, DISCHTIME=datetime.datetime(2107, 10, 8, 13, 35), DEATHTIME=None, ADMITTIME=datetime.datetime(2107, 9, 5, 14, 58), ADMISSION_TYPE='EMERGENCY', NEXT_ADMITTIME=None, NEXT_ADMISSION_TYPE=None)"
            ]
          },
          "metadata": {
            "tags": []
          },
          "execution_count": 16
        }
      ]
    },
    {
      "cell_type": "code",
      "metadata": {
        "id": "0U7VYnnTWoW9",
        "colab_type": "code",
        "colab": {}
      },
      "source": [
        "# backfill data\n",
        "def fill_backward(df, id_column, key_column, fill_column):\n",
        "\n",
        "    # Fill null's with last *non null* value in the window\n",
        "    ff = df.withColumn(\n",
        "        'fill_bwd',\n",
        "        F.last(fill_column, True) # True: fill with last non-null\n",
        "        .over(\n",
        "            Window.partitionBy(id_column)\n",
        "            .orderBy(desc(key_column))\n",
        "            .rowsBetween(-sys.maxsize, 0))\n",
        "        )\n",
        "\n",
        "    # Drop the old column and rename the new column\n",
        "    ff_out = ff.drop(fill_column).withColumnRenamed('fill_bwd', fill_column)\n",
        "\n",
        "    return ff_out"
      ],
      "execution_count": 0,
      "outputs": []
    },
    {
      "cell_type": "code",
      "metadata": {
        "id": "KORmWwEOXISd",
        "colab_type": "code",
        "colab": {}
      },
      "source": [
        "df_admission_shifted = df_admission_shifted.sort(asc('SUBJECT_ID'), asc('ADMITTIME'))\n",
        "df_readmit = fill_backward(df_admission_shifted, \"SUBJECT_ID\", \"ADMITTIME\", \"NEXT_ADMITTIME\")\n",
        "df_readmit = fill_backward(df_readmit, \"SUBJECT_ID\", \"ADMITTIME\", \"NEXT_ADMISSION_TYPE\")"
      ],
      "execution_count": 0,
      "outputs": []
    },
    {
      "cell_type": "code",
      "metadata": {
        "id": "Vp8WF9p-gjnm",
        "colab_type": "code",
        "outputId": "bc8783d5-95c4-43c2-b5f5-cf26e21cb479",
        "colab": {
          "base_uri": "https://localhost:8080/",
          "height": 190
        }
      },
      "source": [
        "df_readmit.printSchema()"
      ],
      "execution_count": 0,
      "outputs": [
        {
          "output_type": "stream",
          "text": [
            "root\n",
            " |-- SUBJECT_ID: integer (nullable = true)\n",
            " |-- HADM_ID: integer (nullable = true)\n",
            " |-- DISCHTIME: timestamp (nullable = true)\n",
            " |-- DEATHTIME: timestamp (nullable = true)\n",
            " |-- ADMITTIME: timestamp (nullable = true)\n",
            " |-- ADMISSION_TYPE: string (nullable = true)\n",
            " |-- NEXT_ADMITTIME: timestamp (nullable = true)\n",
            " |-- NEXT_ADMISSION_TYPE: string (nullable = true)\n",
            "\n"
          ],
          "name": "stdout"
        }
      ]
    },
    {
      "cell_type": "code",
      "metadata": {
        "id": "1oUHMZRQYCbo",
        "colab_type": "code",
        "colab": {}
      },
      "source": [
        "# res.show(100)\n",
        "timeFmt = \"yyyy-MM-dd'T'HH:mm:ss.SSS\"\n",
        "timeDiff = (F.unix_timestamp('NEXT_ADMITTIME', format=timeFmt)\n",
        "            - F.unix_timestamp('ADMITTIME', format=timeFmt))\n",
        "\n",
        "# res = res.withColumn(\"DAYS_NEXT_ADMIT\", timeDiff / 86400)\n",
        "\n",
        "df_readmit = df_readmit.withColumn(\"DAYS_NEXT_ADMIT\", F.datediff('NEXT_ADMITTIME', 'ADMITTIME'))"
      ],
      "execution_count": 0,
      "outputs": []
    },
    {
      "cell_type": "code",
      "metadata": {
        "id": "RLK141hgAdJb",
        "colab_type": "code",
        "outputId": "5f83f668-47c9-4206-afe0-a5edadbbb45c",
        "colab": {
          "base_uri": "https://localhost:8080/",
          "height": 314
        }
      },
      "source": [
        "df_readmit.show(10)"
      ],
      "execution_count": 0,
      "outputs": [
        {
          "output_type": "stream",
          "text": [
            "+----------+-------+-------------------+-------------------+-------------------+--------------+--------------+-------------------+---------------+\n",
            "|SUBJECT_ID|HADM_ID|          DISCHTIME|          DEATHTIME|          ADMITTIME|ADMISSION_TYPE|NEXT_ADMITTIME|NEXT_ADMISSION_TYPE|DAYS_NEXT_ADMIT|\n",
            "+----------+-------+-------------------+-------------------+-------------------+--------------+--------------+-------------------+---------------+\n",
            "|       148| 199488|2107-10-08 13:35:00|               null|2107-09-05 14:58:00|     EMERGENCY|          null|               null|           null|\n",
            "|       463| 197296|2198-10-09 16:41:00|               null|2198-10-05 16:43:00|     EMERGENCY|          null|               null|           null|\n",
            "|       471| 135879|2122-07-30 17:50:00|2122-07-30 17:50:00|2122-07-22 14:04:00|     EMERGENCY|          null|               null|           null|\n",
            "|       833| 179120|2137-05-27 14:19:00|               null|2137-05-23 04:46:00|       NEWBORN|          null|               null|           null|\n",
            "|      1088| 172055|2170-04-08 17:20:00|               null|2170-03-22 05:20:00|     EMERGENCY|          null|               null|           null|\n",
            "|      1238| 128225|2197-03-29 15:30:00|               null|2197-03-27 07:21:00|       NEWBORN|          null|               null|           null|\n",
            "|      1342| 178263|2107-03-19 15:14:00|2107-03-19 15:14:00|2107-02-27 23:11:00|     EMERGENCY|          null|               null|           null|\n",
            "|      1580| 111714|2126-03-07 12:45:00|               null|2126-02-23 18:08:00|     EMERGENCY|          null|               null|           null|\n",
            "|      1591| 106444|2106-04-03 12:53:00|               null|2106-04-01 12:17:00|       NEWBORN|          null|               null|           null|\n",
            "|      1645| 162996|2147-03-16 14:05:00|               null|2147-03-06 07:15:00|      ELECTIVE|          null|               null|           null|\n",
            "+----------+-------+-------------------+-------------------+-------------------+--------------+--------------+-------------------+---------------+\n",
            "only showing top 10 rows\n",
            "\n"
          ],
          "name": "stdout"
        }
      ]
    },
    {
      "cell_type": "code",
      "metadata": {
        "id": "XRipQxHwhTkY",
        "colab_type": "code",
        "outputId": "2eef43f0-c34e-454a-faf1-5c5eaec2a73c",
        "colab": {
          "base_uri": "https://localhost:8080/",
          "height": 190
        }
      },
      "source": [
        "# res.show(100)\n",
        "df_readmit[['DAYS_NEXT_ADMIT']].describe().show()"
      ],
      "execution_count": 0,
      "outputs": [
        {
          "output_type": "stream",
          "text": [
            "+-------+------------------+\n",
            "|summary|   DAYS_NEXT_ADMIT|\n",
            "+-------+------------------+\n",
            "|  count|             11399|\n",
            "|   mean|420.37599789455214|\n",
            "| stddev| 638.6542232864784|\n",
            "|    min|                 0|\n",
            "|    max|              4121|\n",
            "+-------+------------------+\n",
            "\n"
          ],
          "name": "stdout"
        }
      ]
    },
    {
      "cell_type": "code",
      "metadata": {
        "id": "_MNFIOjGlcz5",
        "colab_type": "code",
        "colab": {}
      },
      "source": [
        "# res.write.csv('processed_admit.csv')\n",
        "# df_readmit.toPandas().to_csv('processed_admit_2.csv')"
      ],
      "execution_count": 0,
      "outputs": []
    },
    {
      "cell_type": "code",
      "metadata": {
        "id": "ZMNhzJhtmxRm",
        "colab_type": "code",
        "colab": {}
      },
      "source": [
        "# load csv to spark dataframe, got some errors\n",
        "# noteevents_file_loc = './mimic-iii-clinical-database-1.4/NOTEEVENTS.csv'\n",
        "# df_noteevents = spark.read.csv(noteevents_file_loc, inferSchema=True, header=True, delimiter)"
      ],
      "execution_count": 0,
      "outputs": []
    },
    {
      "cell_type": "markdown",
      "metadata": {
        "id": "g8vZIVjGeF1o",
        "colab_type": "text"
      },
      "source": [
        "### Load notes table from pandas dataframe"
      ]
    },
    {
      "cell_type": "code",
      "metadata": {
        "id": "hHSztbOY16uP",
        "colab_type": "code",
        "outputId": "76097e47-268e-4072-c1d4-586e059b82ad",
        "colab": {
          "base_uri": "https://localhost:8080/",
          "height": 72
        }
      },
      "source": [
        "import pandas as pd\n",
        "from pyspark.sql.types import *\n",
        "\n",
        "# use pandas to load data, got out of memory error when using spark\n",
        "note_file_path = \"./mimic-iii-clinical-database-1.4/NOTEEVENTS.csv\"\n",
        "df_notes = pd.read_csv(note_file_path)  # , dtype={'TEXT': str}\n",
        "# df_notes['TEXT'] = df_notes.TEXT.values\n",
        "df_notes.TEXT = df_notes.TEXT.fillna(' ')\n",
        "df_notes.TEXT = df_notes.TEXT.str.replace('\\n',' ')\n",
        "df_notes.TEXT = df_notes.TEXT.str.replace('\\r',' ')\n"
      ],
      "execution_count": 0,
      "outputs": [
        {
          "output_type": "stream",
          "text": [
            "/usr/local/lib/python3.6/dist-packages/IPython/core/interactiveshell.py:2718: DtypeWarning: Columns (4,5) have mixed types. Specify dtype option on import or set low_memory=False.\n",
            "  interactivity=interactivity, compiler=compiler, result=result)\n"
          ],
          "name": "stderr"
        }
      ]
    },
    {
      "cell_type": "code",
      "metadata": {
        "id": "5mBDrjm1-6c0",
        "colab_type": "code",
        "colab": {}
      },
      "source": [
        "# convert pandas df to spark df\n",
        "# ref: https://stackoverflow.com/questions/37513355/converting-pandas-dataframe-into-spark-dataframe-error\n",
        "# Auxiliar functions\n",
        "def equivalent_type(f):\n",
        "    if f == 'datetime64[ns]': return DateType()\n",
        "    elif f == 'int64': return LongType()\n",
        "    elif f == 'int32': return IntegerType()\n",
        "    elif f == 'float64': return FloatType()\n",
        "    else: return StringType()\n",
        "\n",
        "def define_structure(string, format_type):\n",
        "    try: \n",
        "        typo = equivalent_type(format_type)\n",
        "    except: \n",
        "        typo = StringType()\n",
        "    return StructField(string, typo)\n",
        "\n",
        "\n",
        "# Given pandas dataframe, it will return a spark's dataframe.\n",
        "def pandas_to_spark(pandas_df):\n",
        "    columns = list(pandas_df.columns)\n",
        "    types = list(pandas_df.dtypes)\n",
        "    struct_list = []\n",
        "    for column, typo in zip(columns, types): \n",
        "      struct_list.append(define_structure(column, typo))\n",
        "    p_schema = StructType(struct_list)\n",
        "    # print(p_schema)\n",
        "    return spark.createDataFrame(pandas_df, p_schema)"
      ],
      "execution_count": 0,
      "outputs": []
    },
    {
      "cell_type": "code",
      "metadata": {
        "id": "xriFAbnF9zTi",
        "colab_type": "code",
        "colab": {}
      },
      "source": [
        "# you may get OOM error, limit the number of rows convert to spark dataframe for demo purpose\n",
        "df_notes_spark = pandas_to_spark(df_notes)\n",
        "# df_notes_spark = pandas_to_spark(df_notes.head(10000))\n",
        "df_notes_spark.show(10)"
      ],
      "execution_count": 0,
      "outputs": []
    },
    {
      "cell_type": "code",
      "metadata": {
        "id": "qvgKMXnHFNtd",
        "colab_type": "code",
        "colab": {}
      },
      "source": [
        "df_notes_spark_selected = df_notes_spark.filter(\"CATEGORY == 'Discharge summary'\").groupBy('SUBJECT_ID','HADM_ID').agg(F.last(\"TEXT\"))\n",
        "\n",
        "# df_notes_spark_selected.groupBy('SUBJECT_ID','HADM_ID').agg(F.last(\"TEXT\")).show()\n",
        "df_notes_spark_selected = df_notes_spark_selected.withColumnRenamed(\"last(TEXT, false)\", \"TEXT\")\n",
        "df_notes_spark_selected.show()"
      ],
      "execution_count": 0,
      "outputs": []
    },
    {
      "cell_type": "markdown",
      "metadata": {
        "id": "1HJ5aMpceaqW",
        "colab_type": "text"
      },
      "source": [
        "### Merge admission and notes tables"
      ]
    },
    {
      "cell_type": "code",
      "metadata": {
        "id": "nNgF58TPWDKm",
        "colab_type": "code",
        "outputId": "56843a6b-7248-45a3-d7d8-cc00e8c38fcf",
        "colab": {
          "base_uri": "https://localhost:8080/",
          "height": 486
        }
      },
      "source": [
        "# join two dataframes\n",
        "df_readmit_notes_spark = df_readmit.join(df_notes_spark_selected, ['SUBJECT_ID','HADM_ID'], \"left_outer\")\n",
        "df_readmit_notes_spark.show()"
      ],
      "execution_count": 0,
      "outputs": [
        {
          "output_type": "stream",
          "text": [
            "+----------+-------+-------------------+-------------------+-------------------+--------------+-------------------+-------------------+---------------+--------------------+\n",
            "|SUBJECT_ID|HADM_ID|          DISCHTIME|          DEATHTIME|          ADMITTIME|ADMISSION_TYPE|     NEXT_ADMITTIME|NEXT_ADMISSION_TYPE|DAYS_NEXT_ADMIT|                TEXT|\n",
            "+----------+-------+-------------------+-------------------+-------------------+--------------+-------------------+-------------------+---------------+--------------------+\n",
            "|       168| 141436|2139-06-13 11:14:00|               null|2139-06-11 12:55:00|       NEWBORN|               null|               null|           null|                null|\n",
            "|       305| 133059|2125-05-03 18:12:00|               null|2125-04-26 11:45:00|     EMERGENCY|2125-12-31 18:40:00|          EMERGENCY|            249|                null|\n",
            "|       319| 124954|2156-08-16 17:52:00|               null|2156-08-12 14:01:00|     EMERGENCY|               null|               null|           null|                null|\n",
            "|       526| 183693|2144-04-03 18:30:00|               null|2144-04-01 22:13:00|       NEWBORN|               null|               null|           null|                null|\n",
            "|       537| 123969|2164-01-30 11:15:00|               null|2164-01-27 19:05:00|       NEWBORN|               null|               null|           null|                null|\n",
            "|      1006| 108462|2159-08-29 14:43:00|2159-08-29 14:43:00|2159-08-20 22:15:00|     EMERGENCY|               null|               null|           null|Admission Date:  ...|\n",
            "|      1264| 169492|2128-01-13 07:42:00|2128-01-13 07:42:00|2127-12-19 21:48:00|        URGENT|               null|               null|           null|                null|\n",
            "|      1296| 192531|2166-09-30 15:30:00|               null|2166-09-25 12:11:00|       NEWBORN|               null|               null|           null|                null|\n",
            "|      1419| 170460|2197-05-07 11:31:00|               null|2197-04-26 10:15:00|      ELECTIVE|               null|               null|           null|                null|\n",
            "|      1474| 140051|2106-09-25 14:45:00|               null|2106-09-10 02:54:00|     EMERGENCY|2106-10-12 21:22:00|          EMERGENCY|             32|                null|\n",
            "|      1498| 137660|2191-11-25 16:00:00|               null|2191-11-17 14:13:00|     EMERGENCY|               null|               null|           null|                null|\n",
            "|      1751| 197615|2200-04-30 15:30:00|               null|2200-04-25 20:36:00|     EMERGENCY|               null|               null|           null|                null|\n",
            "|      1848| 107637|2141-07-02 17:30:00|               null|2141-06-29 12:30:00|      ELECTIVE|               null|               null|           null|                null|\n",
            "|      2040| 115117|2145-11-13 12:27:00|               null|2145-10-27 23:00:00|     EMERGENCY|2145-11-22 21:32:00|          EMERGENCY|             26|                null|\n",
            "|      2354| 105635|2170-07-03 13:45:00|               null|2170-06-29 11:30:00|      ELECTIVE|               null|               null|           null|                null|\n",
            "|      2493| 130609|2113-06-02 19:40:00|               null|2113-05-17 11:45:00|     EMERGENCY|               null|               null|           null|Admission Date:  ...|\n",
            "|      2692| 159221|2136-11-30 18:01:00|               null|2136-11-29 04:58:00|       NEWBORN|               null|               null|           null|                null|\n",
            "|      2920| 128442|2152-06-06 16:00:00|               null|2152-05-30 23:21:00|       NEWBORN|               null|               null|           null|                null|\n",
            "|      2990| 179653|2153-07-02 14:30:00|               null|2153-06-23 17:11:00|     EMERGENCY|2153-07-21 16:29:00|          EMERGENCY|             28|                null|\n",
            "|      3291| 155218|2183-04-30 17:29:00|               null|2183-04-28 03:21:00|       NEWBORN|               null|               null|           null|                null|\n",
            "+----------+-------+-------------------+-------------------+-------------------+--------------+-------------------+-------------------+---------------+--------------------+\n",
            "only showing top 20 rows\n",
            "\n"
          ],
          "name": "stdout"
        }
      ]
    },
    {
      "cell_type": "code",
      "metadata": {
        "id": "MLpknG-PXStl",
        "colab_type": "code",
        "outputId": "929389bc-bd3f-46a0-903b-6a7844f297fe",
        "colab": {
          "base_uri": "https://localhost:8080/",
          "height": 486
        }
      },
      "source": [
        "# remove newborn type\n",
        "df_readmit_notes_clean = df_readmit_notes_spark.filter(\"ADMISSION_TYPE != 'NEWBORN'\")\n",
        "df_readmit_notes_clean.show()"
      ],
      "execution_count": 0,
      "outputs": [
        {
          "output_type": "stream",
          "text": [
            "+----------+-------+-------------------+-------------------+-------------------+--------------+-------------------+-------------------+---------------+--------------------+\n",
            "|SUBJECT_ID|HADM_ID|          DISCHTIME|          DEATHTIME|          ADMITTIME|ADMISSION_TYPE|     NEXT_ADMITTIME|NEXT_ADMISSION_TYPE|DAYS_NEXT_ADMIT|                TEXT|\n",
            "+----------+-------+-------------------+-------------------+-------------------+--------------+-------------------+-------------------+---------------+--------------------+\n",
            "|       305| 133059|2125-05-03 18:12:00|               null|2125-04-26 11:45:00|     EMERGENCY|2125-12-31 18:40:00|          EMERGENCY|            249|                null|\n",
            "|       319| 124954|2156-08-16 17:52:00|               null|2156-08-12 14:01:00|     EMERGENCY|               null|               null|           null|                null|\n",
            "|      1006| 108462|2159-08-29 14:43:00|2159-08-29 14:43:00|2159-08-20 22:15:00|     EMERGENCY|               null|               null|           null|Admission Date:  ...|\n",
            "|      1264| 169492|2128-01-13 07:42:00|2128-01-13 07:42:00|2127-12-19 21:48:00|        URGENT|               null|               null|           null|                null|\n",
            "|      1419| 170460|2197-05-07 11:31:00|               null|2197-04-26 10:15:00|      ELECTIVE|               null|               null|           null|                null|\n",
            "|      1474| 140051|2106-09-25 14:45:00|               null|2106-09-10 02:54:00|     EMERGENCY|2106-10-12 21:22:00|          EMERGENCY|             32|                null|\n",
            "|      1498| 137660|2191-11-25 16:00:00|               null|2191-11-17 14:13:00|     EMERGENCY|               null|               null|           null|                null|\n",
            "|      1751| 197615|2200-04-30 15:30:00|               null|2200-04-25 20:36:00|     EMERGENCY|               null|               null|           null|                null|\n",
            "|      1848| 107637|2141-07-02 17:30:00|               null|2141-06-29 12:30:00|      ELECTIVE|               null|               null|           null|                null|\n",
            "|      2040| 115117|2145-11-13 12:27:00|               null|2145-10-27 23:00:00|     EMERGENCY|2145-11-22 21:32:00|          EMERGENCY|             26|                null|\n",
            "|      2354| 105635|2170-07-03 13:45:00|               null|2170-06-29 11:30:00|      ELECTIVE|               null|               null|           null|                null|\n",
            "|      2493| 130609|2113-06-02 19:40:00|               null|2113-05-17 11:45:00|     EMERGENCY|               null|               null|           null|Admission Date:  ...|\n",
            "|      2990| 179653|2153-07-02 14:30:00|               null|2153-06-23 17:11:00|     EMERGENCY|2153-07-21 16:29:00|          EMERGENCY|             28|                null|\n",
            "|      3300| 165327|2135-06-05 15:30:00|               null|2135-05-11 19:15:00|     EMERGENCY|               null|               null|           null|                null|\n",
            "|      3359| 188494|2113-11-19 18:31:00|               null|2113-11-11 17:57:00|     EMERGENCY|               null|               null|           null|                null|\n",
            "|      3506| 112218|2195-06-22 15:50:00|               null|2195-06-06 18:36:00|     EMERGENCY|2195-06-29 21:39:00|          EMERGENCY|             23|Admission Date:  ...|\n",
            "|      3974| 166324|2145-03-06 14:59:00|               null|2145-02-25 00:58:00|     EMERGENCY|2148-05-09 17:42:00|          EMERGENCY|           1169|Admission Date:  ...|\n",
            "|      3986| 103534|2146-05-19 12:15:00|               null|2146-05-12 18:29:00|     EMERGENCY|               null|               null|           null|                null|\n",
            "|      4102| 197387|2192-04-18 14:25:00|               null|2192-04-13 20:03:00|     EMERGENCY|               null|               null|           null|                null|\n",
            "|      4110| 107925|2159-09-29 17:30:00|               null|2159-09-22 10:26:00|     EMERGENCY|               null|               null|           null|                null|\n",
            "+----------+-------+-------------------+-------------------+-------------------+--------------+-------------------+-------------------+---------------+--------------------+\n",
            "only showing top 20 rows\n",
            "\n"
          ],
          "name": "stdout"
        }
      ]
    },
    {
      "cell_type": "code",
      "metadata": {
        "id": "SQeSLi3mX8DL",
        "colab_type": "code",
        "outputId": "adec98d8-a302-498d-904c-90672a46821c",
        "colab": {
          "base_uri": "https://localhost:8080/",
          "height": 486
        }
      },
      "source": [
        "df_readmit_notes_clean_label = df_readmit_notes_clean.withColumn('OUTPUT_LABEL', df_readmit_notes_clean.DAYS_NEXT_ADMIT<30)\n",
        "df_readmit_notes_clean_label.show()"
      ],
      "execution_count": 0,
      "outputs": [
        {
          "output_type": "stream",
          "text": [
            "+----------+-------+-------------------+-------------------+-------------------+--------------+-------------------+-------------------+---------------+--------------------+------------+\n",
            "|SUBJECT_ID|HADM_ID|          DISCHTIME|          DEATHTIME|          ADMITTIME|ADMISSION_TYPE|     NEXT_ADMITTIME|NEXT_ADMISSION_TYPE|DAYS_NEXT_ADMIT|                TEXT|OUTPUT_LABEL|\n",
            "+----------+-------+-------------------+-------------------+-------------------+--------------+-------------------+-------------------+---------------+--------------------+------------+\n",
            "|       305| 133059|2125-05-03 18:12:00|               null|2125-04-26 11:45:00|     EMERGENCY|2125-12-31 18:40:00|          EMERGENCY|            249|                null|       false|\n",
            "|       319| 124954|2156-08-16 17:52:00|               null|2156-08-12 14:01:00|     EMERGENCY|               null|               null|           null|                null|        null|\n",
            "|      1006| 108462|2159-08-29 14:43:00|2159-08-29 14:43:00|2159-08-20 22:15:00|     EMERGENCY|               null|               null|           null|Admission Date:  ...|        null|\n",
            "|      1264| 169492|2128-01-13 07:42:00|2128-01-13 07:42:00|2127-12-19 21:48:00|        URGENT|               null|               null|           null|                null|        null|\n",
            "|      1419| 170460|2197-05-07 11:31:00|               null|2197-04-26 10:15:00|      ELECTIVE|               null|               null|           null|                null|        null|\n",
            "|      1474| 140051|2106-09-25 14:45:00|               null|2106-09-10 02:54:00|     EMERGENCY|2106-10-12 21:22:00|          EMERGENCY|             32|                null|       false|\n",
            "|      1498| 137660|2191-11-25 16:00:00|               null|2191-11-17 14:13:00|     EMERGENCY|               null|               null|           null|                null|        null|\n",
            "|      1751| 197615|2200-04-30 15:30:00|               null|2200-04-25 20:36:00|     EMERGENCY|               null|               null|           null|                null|        null|\n",
            "|      1848| 107637|2141-07-02 17:30:00|               null|2141-06-29 12:30:00|      ELECTIVE|               null|               null|           null|                null|        null|\n",
            "|      2040| 115117|2145-11-13 12:27:00|               null|2145-10-27 23:00:00|     EMERGENCY|2145-11-22 21:32:00|          EMERGENCY|             26|                null|        true|\n",
            "|      2354| 105635|2170-07-03 13:45:00|               null|2170-06-29 11:30:00|      ELECTIVE|               null|               null|           null|                null|        null|\n",
            "|      2493| 130609|2113-06-02 19:40:00|               null|2113-05-17 11:45:00|     EMERGENCY|               null|               null|           null|Admission Date:  ...|        null|\n",
            "|      2990| 179653|2153-07-02 14:30:00|               null|2153-06-23 17:11:00|     EMERGENCY|2153-07-21 16:29:00|          EMERGENCY|             28|                null|        true|\n",
            "|      3300| 165327|2135-06-05 15:30:00|               null|2135-05-11 19:15:00|     EMERGENCY|               null|               null|           null|                null|        null|\n",
            "|      3359| 188494|2113-11-19 18:31:00|               null|2113-11-11 17:57:00|     EMERGENCY|               null|               null|           null|                null|        null|\n",
            "|      3506| 112218|2195-06-22 15:50:00|               null|2195-06-06 18:36:00|     EMERGENCY|2195-06-29 21:39:00|          EMERGENCY|             23|Admission Date:  ...|        true|\n",
            "|      3974| 166324|2145-03-06 14:59:00|               null|2145-02-25 00:58:00|     EMERGENCY|2148-05-09 17:42:00|          EMERGENCY|           1169|Admission Date:  ...|       false|\n",
            "|      3986| 103534|2146-05-19 12:15:00|               null|2146-05-12 18:29:00|     EMERGENCY|               null|               null|           null|                null|        null|\n",
            "|      4102| 197387|2192-04-18 14:25:00|               null|2192-04-13 20:03:00|     EMERGENCY|               null|               null|           null|                null|        null|\n",
            "|      4110| 107925|2159-09-29 17:30:00|               null|2159-09-22 10:26:00|     EMERGENCY|               null|               null|           null|                null|        null|\n",
            "+----------+-------+-------------------+-------------------+-------------------+--------------+-------------------+-------------------+---------------+--------------------+------------+\n",
            "only showing top 20 rows\n",
            "\n"
          ],
          "name": "stdout"
        }
      ]
    },
    {
      "cell_type": "markdown",
      "metadata": {
        "id": "SnOvHR_aegxC",
        "colab_type": "text"
      },
      "source": [
        "### Generate training data (method 1 with pyspark)"
      ]
    },
    {
      "cell_type": "code",
      "metadata": {
        "id": "GLQWW6w_DhYV",
        "colab_type": "code",
        "colab": {}
      },
      "source": [
        "# generate training/testing data\n",
        "# shuffle the samples\n",
        "df_readmit_notes_clean = df_readmit_notes_clean.toPandas().sample(n=len(df_readmit_notes_clean.toPandas()), random_state=1024).reset_index(drop=True)\n",
        "\n",
        "# prepare validation and test data \n",
        "df_valid_test = df_readmit_notes_clean.sample(frac=0.30, random_state=1024)\n",
        "df_test = df_valid_test.sample(frac=0.5, random_state=1024)\n",
        "df_valid = df_valid_test.drop(df_test.index)\n",
        "\n",
        "# prepare training data\n",
        "df_train_all = df_readmit_notes_clean.drop(df_valid_test.index)"
      ],
      "execution_count": 0,
      "outputs": []
    },
    {
      "cell_type": "code",
      "metadata": {
        "id": "UVoF4lc-a_eR",
        "colab_type": "code",
        "outputId": "ad3829df-9cf9-4c07-c17b-bd805732d176",
        "colab": {
          "base_uri": "https://localhost:8080/",
          "height": 305
        }
      },
      "source": [
        "df_train_all.head()"
      ],
      "execution_count": 0,
      "outputs": [
        {
          "output_type": "execute_result",
          "data": {
            "text/html": [
              "<div>\n",
              "<style scoped>\n",
              "    .dataframe tbody tr th:only-of-type {\n",
              "        vertical-align: middle;\n",
              "    }\n",
              "\n",
              "    .dataframe tbody tr th {\n",
              "        vertical-align: top;\n",
              "    }\n",
              "\n",
              "    .dataframe thead th {\n",
              "        text-align: right;\n",
              "    }\n",
              "</style>\n",
              "<table border=\"1\" class=\"dataframe\">\n",
              "  <thead>\n",
              "    <tr style=\"text-align: right;\">\n",
              "      <th></th>\n",
              "      <th>SUBJECT_ID</th>\n",
              "      <th>HADM_ID</th>\n",
              "      <th>DISCHTIME</th>\n",
              "      <th>DEATHTIME</th>\n",
              "      <th>ADMITTIME</th>\n",
              "      <th>ADMISSION_TYPE</th>\n",
              "      <th>NEXT_ADMITTIME</th>\n",
              "      <th>NEXT_ADMISSION_TYPE</th>\n",
              "      <th>DAYS_NEXT_ADMIT</th>\n",
              "      <th>TEXT</th>\n",
              "    </tr>\n",
              "  </thead>\n",
              "  <tbody>\n",
              "    <tr>\n",
              "      <th>0</th>\n",
              "      <td>27087</td>\n",
              "      <td>159446</td>\n",
              "      <td>2143-05-13 15:03:00</td>\n",
              "      <td>NaT</td>\n",
              "      <td>2143-05-06 07:15:00</td>\n",
              "      <td>ELECTIVE</td>\n",
              "      <td>NaT</td>\n",
              "      <td>None</td>\n",
              "      <td>NaN</td>\n",
              "      <td>None</td>\n",
              "    </tr>\n",
              "    <tr>\n",
              "      <th>1</th>\n",
              "      <td>20412</td>\n",
              "      <td>145783</td>\n",
              "      <td>2133-08-11 13:08:00</td>\n",
              "      <td>NaT</td>\n",
              "      <td>2133-08-06 16:45:00</td>\n",
              "      <td>EMERGENCY</td>\n",
              "      <td>NaT</td>\n",
              "      <td>None</td>\n",
              "      <td>NaN</td>\n",
              "      <td>None</td>\n",
              "    </tr>\n",
              "    <tr>\n",
              "      <th>2</th>\n",
              "      <td>86018</td>\n",
              "      <td>114855</td>\n",
              "      <td>2198-03-03 17:52:00</td>\n",
              "      <td>NaT</td>\n",
              "      <td>2198-03-02 19:31:00</td>\n",
              "      <td>EMERGENCY</td>\n",
              "      <td>2198-04-09 17:35:00</td>\n",
              "      <td>EMERGENCY</td>\n",
              "      <td>38.0</td>\n",
              "      <td>None</td>\n",
              "    </tr>\n",
              "    <tr>\n",
              "      <th>3</th>\n",
              "      <td>15967</td>\n",
              "      <td>171844</td>\n",
              "      <td>2108-09-16 14:30:00</td>\n",
              "      <td>NaT</td>\n",
              "      <td>2108-09-14 15:13:00</td>\n",
              "      <td>EMERGENCY</td>\n",
              "      <td>2111-08-14 14:51:00</td>\n",
              "      <td>EMERGENCY</td>\n",
              "      <td>1064.0</td>\n",
              "      <td>None</td>\n",
              "    </tr>\n",
              "    <tr>\n",
              "      <th>4</th>\n",
              "      <td>78509</td>\n",
              "      <td>129981</td>\n",
              "      <td>2134-02-04 13:43:00</td>\n",
              "      <td>NaT</td>\n",
              "      <td>2134-01-29 07:15:00</td>\n",
              "      <td>ELECTIVE</td>\n",
              "      <td>NaT</td>\n",
              "      <td>None</td>\n",
              "      <td>NaN</td>\n",
              "      <td>None</td>\n",
              "    </tr>\n",
              "  </tbody>\n",
              "</table>\n",
              "</div>"
            ],
            "text/plain": [
              "   SUBJECT_ID  HADM_ID  ... DAYS_NEXT_ADMIT  TEXT\n",
              "0       27087   159446  ...             NaN  None\n",
              "1       20412   145783  ...             NaN  None\n",
              "2       86018   114855  ...            38.0  None\n",
              "3       15967   171844  ...          1064.0  None\n",
              "4       78509   129981  ...             NaN  None\n",
              "\n",
              "[5 rows x 10 columns]"
            ]
          },
          "metadata": {
            "tags": []
          },
          "execution_count": 48
        }
      ]
    },
    {
      "cell_type": "markdown",
      "metadata": {
        "id": "zqfnOK3sendO",
        "colab_type": "text"
      },
      "source": [
        "### Generate training data (method 2 with pandas)"
      ]
    },
    {
      "cell_type": "code",
      "metadata": {
        "id": "e4eQzCsL-cbq",
        "colab_type": "code",
        "colab": {}
      },
      "source": [
        "## use pandas to generate data\n",
        "\n",
        "# merge df_readmit and df_notes\n",
        "df_notes_selected = df_notes.loc[df_notes.CATEGORY == 'Discharge summary']\n",
        "\n",
        "# choose the last note summary\n",
        "df_notes_selected = (df_notes_selected.groupby(['SUBJECT_ID','HADM_ID']).nth(-1)).reset_index()\n",
        "\n",
        "df_readmit_notes = pd.merge(df_readmit.toPandas()[['SUBJECT_ID','HADM_ID','ADMITTIME','DISCHTIME','DAYS_NEXT_ADMIT',\\\n",
        "                                'NEXT_ADMITTIME','ADMISSION_TYPE','DEATHTIME']],\n",
        "                        df_notes_selected[['SUBJECT_ID','HADM_ID','TEXT']], \n",
        "                        on = ['SUBJECT_ID','HADM_ID'],\n",
        "                        how = 'left')\n",
        "# assert len(df_readmit.toPandas()) == len(df_adm_notes), 'Number of rows increased'\n",
        "\n",
        "df_readmit_notes.groupby('ADMISSION_TYPE').apply(\n",
        "    lambda g: g.TEXT.isnull().sum())/df_readmit_notes.groupby('ADMISSION_TYPE').size()\n",
        "\n",
        "# remove newborn type\n",
        "df_readmit_notes_clean = df_readmit_notes.loc[df_readmit_notes.ADMISSION_TYPE != 'NEWBORN'].copy()\n",
        "\n",
        "# consider 30 re-admission\n",
        "df_readmit_notes_clean['OUTPUT_LABEL'] = (df_readmit_notes_clean.DAYS_NEXT_ADMIT < 30).astype('int')\n",
        "print(df_readmit_notes_clean[['OUTPUT_LABEL']].sum())"
      ],
      "execution_count": 0,
      "outputs": []
    },
    {
      "cell_type": "code",
      "metadata": {
        "id": "7EokMhwxTMI3",
        "colab_type": "code",
        "colab": {}
      },
      "source": [
        "# generate training/testing data\n",
        "# shuffle the samples\n",
        "df_readmit_notes_clean = df_readmit_notes_clean.sample(n=len(df_readmit_notes_clean), random_state=1024).reset_index(drop=True)\n",
        "\n",
        "# prepare validation and test data \n",
        "df_valid_test = df_readmit_notes_clean.sample(frac=0.30, random_state=1024)\n",
        "df_test = df_valid_test.sample(frac=0.5, random_state=1024)\n",
        "df_valid = df_valid_test.drop(df_test.index)\n",
        "\n",
        "# prepare training data\n",
        "df_train_all = df_readmit_notes_clean.drop(df_valid_test.index)"
      ],
      "execution_count": 0,
      "outputs": []
    },
    {
      "cell_type": "code",
      "metadata": {
        "id": "iKxHC_BkTYm4",
        "colab_type": "code",
        "colab": {}
      },
      "source": [
        ""
      ],
      "execution_count": 0,
      "outputs": []
    }
  ]
}