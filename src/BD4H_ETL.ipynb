{
  "nbformat": 4,
  "nbformat_minor": 0,
  "metadata": {
    "colab": {
      "name": "BD4H_ETL.ipynb",
      "provenance": [],
      "collapsed_sections": [],
      "toc_visible": true,
      "machine_shape": "hm"
    },
    "kernelspec": {
      "name": "python3",
      "display_name": "Python 3"
    }
  },
  "cells": [
    {
      "cell_type": "markdown",
      "metadata": {
        "id": "dFNVyyZ6nNtM",
        "colab_type": "text"
      },
      "source": [
        "# **Setup Spark Enviornment**"
      ]
    },
    {
      "cell_type": "code",
      "metadata": {
        "id": "1977LgdkY4YM",
        "colab_type": "code",
        "colab": {}
      },
      "source": [
        "# setup spark enviornment on google colab\n",
        "!apt-get install openjdk-8-jdk-headless -qq > /dev/null\n",
        "!wget -q http://www-eu.apache.org/dist/spark/spark-2.4.4/spark-2.4.4-bin-hadoop2.7.tgz\n",
        "!tar xf spark-2.4.4-bin-hadoop2.7.tgz\n",
        "!pip install -q findspark"
      ],
      "execution_count": 0,
      "outputs": []
    },
    {
      "cell_type": "code",
      "metadata": {
        "id": "OJeRQvBqZUmX",
        "colab_type": "code",
        "colab": {}
      },
      "source": [
        "import os\n",
        "os.environ[\"JAVA_HOME\"] = \"/usr/lib/jvm/java-8-openjdk-amd64\"\n",
        "os.environ[\"SPARK_HOME\"] = \"/content/spark-2.4.4-bin-hadoop2.7\""
      ],
      "execution_count": 0,
      "outputs": []
    },
    {
      "cell_type": "code",
      "metadata": {
        "id": "WA910uPgZqo4",
        "colab_type": "code",
        "colab": {}
      },
      "source": [
        "import findspark\n",
        "findspark.init(\"spark-2.4.4-bin-hadoop2.7\")  # SPARK_HOME\n",
        "#from pyspark.sql import SparkSession\n",
        "from pyspark.sql import *\n",
        "from pyspark.sql.functions import col, asc, desc\n",
        "import pyspark.sql.functions as F\n",
        "import sys\n",
        "\n",
        "spark = SparkSession.builder.master(\"local[*]\").getOrCreate()"
      ],
      "execution_count": 0,
      "outputs": []
    },
    {
      "cell_type": "code",
      "metadata": {
        "id": "4PRI_Gl-uxxE",
        "colab_type": "code",
        "outputId": "da1a291f-3768-4c57-f575-e97033af1923",
        "colab": {
          "base_uri": "https://localhost:8080/",
          "height": 122
        }
      },
      "source": [
        "# connect google drive\n",
        "from google.colab import drive\n",
        "drive.mount('/content/drive', force_remount=True)"
      ],
      "execution_count": 6,
      "outputs": [
        {
          "output_type": "stream",
          "text": [
            "Go to this URL in a browser: https://accounts.google.com/o/oauth2/auth?client_id=947318989803-6bn6qk8qdgf4n4g3pfee6491hc0brc4i.apps.googleusercontent.com&redirect_uri=urn%3aietf%3awg%3aoauth%3a2.0%3aoob&response_type=code&scope=email%20https%3a%2f%2fwww.googleapis.com%2fauth%2fdocs.test%20https%3a%2f%2fwww.googleapis.com%2fauth%2fdrive%20https%3a%2f%2fwww.googleapis.com%2fauth%2fdrive.photos.readonly%20https%3a%2f%2fwww.googleapis.com%2fauth%2fpeopleapi.readonly\n",
            "\n",
            "Enter your authorization code:\n",
            "··········\n",
            "Mounted at /content/drive\n"
          ],
          "name": "stdout"
        }
      ]
    },
    {
      "cell_type": "code",
      "metadata": {
        "id": "jHT0pbpIuyqd",
        "colab_type": "code",
        "outputId": "2feabd6c-a275-4a05-ad53-67bd523a2fb3",
        "colab": {
          "base_uri": "https://localhost:8080/",
          "height": 119
        }
      },
      "source": [
        "# copy data from google drive to colab\n",
        "cp -rvf drive/My\\ Drive/mimic-iii-clinical-database-1.4 ."
      ],
      "execution_count": 7,
      "outputs": [
        {
          "output_type": "stream",
          "text": [
            "'drive/My Drive/mimic-iii-clinical-database-1.4' -> './mimic-iii-clinical-database-1.4'\n",
            "'drive/My Drive/mimic-iii-clinical-database-1.4/.DS_Store' -> './mimic-iii-clinical-database-1.4/.DS_Store'\n",
            "'drive/My Drive/mimic-iii-clinical-database-1.4/CAREGIVERS.csv' -> './mimic-iii-clinical-database-1.4/CAREGIVERS.csv'\n",
            "'drive/My Drive/mimic-iii-clinical-database-1.4/CALLOUT.csv' -> './mimic-iii-clinical-database-1.4/CALLOUT.csv'\n",
            "'drive/My Drive/mimic-iii-clinical-database-1.4/ADMISSIONS.csv' -> './mimic-iii-clinical-database-1.4/ADMISSIONS.csv'\n",
            "'drive/My Drive/mimic-iii-clinical-database-1.4/NOTEEVENTS.csv' -> './mimic-iii-clinical-database-1.4/NOTEEVENTS.csv'\n"
          ],
          "name": "stdout"
        }
      ]
    },
    {
      "cell_type": "markdown",
      "metadata": {
        "id": "NZBiZTmBv6u-",
        "colab_type": "text"
      },
      "source": [
        "# **Data Preparation**"
      ]
    },
    {
      "cell_type": "code",
      "metadata": {
        "id": "eJUSqB9DvDEP",
        "colab_type": "code",
        "colab": {}
      },
      "source": [
        "# import org.apache.spark.sql.functions._\n",
        "# import sqlContext.implicits._\n",
        "\n",
        "admission_file_path = './mimic-iii-clinical-database-1.4/ADMISSIONS.csv'\n",
        "df_admission = spark.read.csv(admission_file_path, inferSchema=True, header=True)"
      ],
      "execution_count": 0,
      "outputs": []
    },
    {
      "cell_type": "code",
      "metadata": {
        "id": "P0uViBqXkoWS",
        "colab_type": "code",
        "outputId": "df9e0284-2ea5-4f73-928b-0539e6df976b",
        "colab": {
          "base_uri": "https://localhost:8080/",
          "height": 374
        }
      },
      "source": [
        "df_admission.printSchema()"
      ],
      "execution_count": 31,
      "outputs": [
        {
          "output_type": "stream",
          "text": [
            "root\n",
            " |-- ROW_ID: integer (nullable = true)\n",
            " |-- SUBJECT_ID: integer (nullable = true)\n",
            " |-- HADM_ID: integer (nullable = true)\n",
            " |-- ADMITTIME: timestamp (nullable = true)\n",
            " |-- DISCHTIME: timestamp (nullable = true)\n",
            " |-- DEATHTIME: timestamp (nullable = true)\n",
            " |-- ADMISSION_TYPE: string (nullable = true)\n",
            " |-- ADMISSION_LOCATION: string (nullable = true)\n",
            " |-- DISCHARGE_LOCATION: string (nullable = true)\n",
            " |-- INSURANCE: string (nullable = true)\n",
            " |-- LANGUAGE: string (nullable = true)\n",
            " |-- RELIGION: string (nullable = true)\n",
            " |-- MARITAL_STATUS: string (nullable = true)\n",
            " |-- ETHNICITY: string (nullable = true)\n",
            " |-- EDREGTIME: timestamp (nullable = true)\n",
            " |-- EDOUTTIME: timestamp (nullable = true)\n",
            " |-- DIAGNOSIS: string (nullable = true)\n",
            " |-- HOSPITAL_EXPIRE_FLAG: integer (nullable = true)\n",
            " |-- HAS_CHARTEVENTS_DATA: integer (nullable = true)\n",
            "\n"
          ],
          "name": "stdout"
        }
      ]
    },
    {
      "cell_type": "code",
      "metadata": {
        "id": "hmebyYavlPIT",
        "colab_type": "code",
        "outputId": "3e81120e-a93d-4390-fc44-b3c379719e98",
        "colab": {
          "base_uri": "https://localhost:8080/",
          "height": 309
        }
      },
      "source": [
        "df_admission.show(10)"
      ],
      "execution_count": 32,
      "outputs": [
        {
          "output_type": "stream",
          "text": [
            "+------+----------+-------+-------------------+-------------------+-------------------+--------------+--------------------+--------------------+---------+--------+-----------------+--------------+--------------------+-------------------+-------------------+--------------------+--------------------+--------------------+\n",
            "|ROW_ID|SUBJECT_ID|HADM_ID|          ADMITTIME|          DISCHTIME|          DEATHTIME|ADMISSION_TYPE|  ADMISSION_LOCATION|  DISCHARGE_LOCATION|INSURANCE|LANGUAGE|         RELIGION|MARITAL_STATUS|           ETHNICITY|          EDREGTIME|          EDOUTTIME|           DIAGNOSIS|HOSPITAL_EXPIRE_FLAG|HAS_CHARTEVENTS_DATA|\n",
            "+------+----------+-------+-------------------+-------------------+-------------------+--------------+--------------------+--------------------+---------+--------+-----------------+--------------+--------------------+-------------------+-------------------+--------------------+--------------------+--------------------+\n",
            "|    21|        22| 165315|2196-04-09 12:26:00|2196-04-10 15:54:00|               null|     EMERGENCY|EMERGENCY ROOM ADMIT|DISC-TRAN CANCER/...|  Private|    null|     UNOBTAINABLE|       MARRIED|               WHITE|2196-04-09 10:06:00|2196-04-09 13:24:00|BENZODIAZEPINE OV...|                   0|                   1|\n",
            "|    22|        23| 152223|2153-09-03 07:15:00|2153-09-08 19:10:00|               null|      ELECTIVE|PHYS REFERRAL/NOR...|    HOME HEALTH CARE| Medicare|    null|         CATHOLIC|       MARRIED|               WHITE|               null|               null|CORONARY ARTERY D...|                   0|                   1|\n",
            "|    23|        23| 124321|2157-10-18 19:34:00|2157-10-25 14:00:00|               null|     EMERGENCY|TRANSFER FROM HOS...|    HOME HEALTH CARE| Medicare|    ENGL|         CATHOLIC|       MARRIED|               WHITE|               null|               null|          BRAIN MASS|                   0|                   1|\n",
            "|    24|        24| 161859|2139-06-06 16:14:00|2139-06-09 12:48:00|               null|     EMERGENCY|TRANSFER FROM HOS...|                HOME|  Private|    null|PROTESTANT QUAKER|        SINGLE|               WHITE|               null|               null|INTERIOR MYOCARDI...|                   0|                   1|\n",
            "|    25|        25| 129635|2160-11-02 02:06:00|2160-11-05 14:55:00|               null|     EMERGENCY|EMERGENCY ROOM ADMIT|                HOME|  Private|    null|     UNOBTAINABLE|       MARRIED|               WHITE|2160-11-02 01:01:00|2160-11-02 04:27:00|ACUTE CORONARY SY...|                   0|                   1|\n",
            "|    26|        26| 197661|2126-05-06 15:16:00|2126-05-13 15:00:00|               null|     EMERGENCY|TRANSFER FROM HOS...|                HOME| Medicare|    null|         CATHOLIC|        SINGLE|UNKNOWN/NOT SPECI...|               null|               null|              V-TACH|                   0|                   1|\n",
            "|    27|        27| 134931|2191-11-30 22:16:00|2191-12-03 14:45:00|               null|       NEWBORN|PHYS REFERRAL/NOR...|                HOME|  Private|    null|         CATHOLIC|          null|               WHITE|               null|               null|             NEWBORN|                   0|                   1|\n",
            "|    28|        28| 162569|2177-09-01 07:15:00|2177-09-06 16:00:00|               null|      ELECTIVE|PHYS REFERRAL/NOR...|    HOME HEALTH CARE| Medicare|    null|         CATHOLIC|       MARRIED|               WHITE|               null|               null|CORONARY ARTERY D...|                   0|                   1|\n",
            "|    29|        30| 104557|2172-10-14 14:17:00|2172-10-19 14:37:00|               null|        URGENT|TRANSFER FROM HOS...|    HOME HEALTH CARE| Medicare|    null|         CATHOLIC|       MARRIED|UNKNOWN/NOT SPECI...|               null|               null|UNSTABLE ANGINA\\CATH|                   0|                   1|\n",
            "|    30|        31| 128652|2108-08-22 23:27:00|2108-08-30 15:00:00|2108-08-30 15:00:00|     EMERGENCY|TRANSFER FROM HOS...|        DEAD/EXPIRED| Medicare|    null|         CATHOLIC|       MARRIED|               WHITE|               null|               null|  STATUS EPILEPTICUS|                   1|                   1|\n",
            "+------+----------+-------+-------------------+-------------------+-------------------+--------------+--------------------+--------------------+---------+--------+-----------------+--------------+--------------------+-------------------+-------------------+--------------------+--------------------+--------------------+\n",
            "only showing top 10 rows\n",
            "\n"
          ],
          "name": "stdout"
        }
      ]
    },
    {
      "cell_type": "code",
      "metadata": {
        "id": "mC3Vak6fxrIp",
        "colab_type": "code",
        "outputId": "9b72fb34-1972-478c-90aa-59c5cfb6705f",
        "colab": {
          "base_uri": "https://localhost:8080/",
          "height": 289
        }
      },
      "source": [
        "selected_columns = ('SUBJECT_ID', 'HADM_ID', 'ADMITTIME', 'DISCHTIME', 'DEATHTIME', 'ADMISSION_TYPE')\n",
        "df_admission_selected = df_admission.select(*selected_columns)\n",
        "df_admission_selected.show(10)"
      ],
      "execution_count": 57,
      "outputs": [
        {
          "output_type": "stream",
          "text": [
            "+----------+-------+-------------------+-------------------+-------------------+--------------+\n",
            "|SUBJECT_ID|HADM_ID|          ADMITTIME|          DISCHTIME|          DEATHTIME|ADMISSION_TYPE|\n",
            "+----------+-------+-------------------+-------------------+-------------------+--------------+\n",
            "|        22| 165315|2196-04-09 12:26:00|2196-04-10 15:54:00|               null|     EMERGENCY|\n",
            "|        23| 152223|2153-09-03 07:15:00|2153-09-08 19:10:00|               null|      ELECTIVE|\n",
            "|        23| 124321|2157-10-18 19:34:00|2157-10-25 14:00:00|               null|     EMERGENCY|\n",
            "|        24| 161859|2139-06-06 16:14:00|2139-06-09 12:48:00|               null|     EMERGENCY|\n",
            "|        25| 129635|2160-11-02 02:06:00|2160-11-05 14:55:00|               null|     EMERGENCY|\n",
            "|        26| 197661|2126-05-06 15:16:00|2126-05-13 15:00:00|               null|     EMERGENCY|\n",
            "|        27| 134931|2191-11-30 22:16:00|2191-12-03 14:45:00|               null|       NEWBORN|\n",
            "|        28| 162569|2177-09-01 07:15:00|2177-09-06 16:00:00|               null|      ELECTIVE|\n",
            "|        30| 104557|2172-10-14 14:17:00|2172-10-19 14:37:00|               null|        URGENT|\n",
            "|        31| 128652|2108-08-22 23:27:00|2108-08-30 15:00:00|2108-08-30 15:00:00|     EMERGENCY|\n",
            "+----------+-------+-------------------+-------------------+-------------------+--------------+\n",
            "only showing top 10 rows\n",
            "\n"
          ],
          "name": "stdout"
        }
      ]
    },
    {
      "cell_type": "code",
      "metadata": {
        "id": "6rlr5_DwBFCN",
        "colab_type": "code",
        "colab": {
          "base_uri": "https://localhost:8080/",
          "height": 289
        },
        "outputId": "70feb6b4-886f-4ca7-f354-da975dedc126"
      },
      "source": [
        "# sort by subject_ID and admission date\n",
        "df_admission_sorted = df_admission_selected.sort(asc('SUBJECT_ID'), asc('ADMITTIME'))\n",
        "df_admission_sorted.show(10)"
      ],
      "execution_count": 59,
      "outputs": [
        {
          "output_type": "stream",
          "text": [
            "+----------+-------+-------------------+-------------------+-------------------+--------------+\n",
            "|SUBJECT_ID|HADM_ID|          ADMITTIME|          DISCHTIME|          DEATHTIME|ADMISSION_TYPE|\n",
            "+----------+-------+-------------------+-------------------+-------------------+--------------+\n",
            "|         2| 163353|2138-07-17 19:04:00|2138-07-21 15:48:00|               null|       NEWBORN|\n",
            "|         3| 145834|2101-10-20 19:08:00|2101-10-31 13:58:00|               null|     EMERGENCY|\n",
            "|         4| 185777|2191-03-16 00:28:00|2191-03-23 18:41:00|               null|     EMERGENCY|\n",
            "|         5| 178980|2103-02-02 04:31:00|2103-02-04 12:15:00|               null|       NEWBORN|\n",
            "|         6| 107064|2175-05-30 07:15:00|2175-06-15 16:00:00|               null|      ELECTIVE|\n",
            "|         7| 118037|2121-05-23 15:05:00|2121-05-27 11:57:00|               null|       NEWBORN|\n",
            "|         8| 159514|2117-11-20 10:22:00|2117-11-24 14:20:00|               null|       NEWBORN|\n",
            "|         9| 150750|2149-11-09 13:06:00|2149-11-14 10:15:00|2149-11-14 10:15:00|     EMERGENCY|\n",
            "|        10| 184167|2103-06-28 11:36:00|2103-07-06 12:10:00|               null|       NEWBORN|\n",
            "|        11| 194540|2178-04-16 06:18:00|2178-05-11 19:00:00|               null|     EMERGENCY|\n",
            "+----------+-------+-------------------+-------------------+-------------------+--------------+\n",
            "only showing top 10 rows\n",
            "\n"
          ],
          "name": "stdout"
        }
      ]
    },
    {
      "cell_type": "code",
      "metadata": {
        "id": "Y9gRMneC4ALa",
        "colab_type": "code",
        "colab": {}
      },
      "source": [
        "df_admission_sorted.createOrReplaceTempView(\"admission_sorted\")\n",
        "df_admission_row_num = spark.sql(\"\"\"\n",
        "    select *, row_number() over(partition by SUBJECT_ID order by ADMITTIME) as row_num from admission_sorted\n",
        "\"\"\")\n",
        "\n",
        "df_admission_row_num.createOrReplaceTempView(\"admission_row_num\")"
      ],
      "execution_count": 0,
      "outputs": []
    },
    {
      "cell_type": "code",
      "metadata": {
        "id": "Xkz6w7gQ7nTl",
        "colab_type": "code",
        "colab": {}
      },
      "source": [
        "df_admission_shifted = spark.sql(\"\"\" \n",
        "select SUBJECT_ID,\n",
        "    HADM_ID,\n",
        "    DISCHTIME,\n",
        "    DEATHTIME,\n",
        "    ADMITTIME,\n",
        "    ADMISSION_TYPE,\n",
        "    case when NEXT_ADMISSION_TYPE IS NULL then NULL else NEXT_ADMITTIME end as NEXT_ADMITTIME,\n",
        "    NEXT_ADMISSION_TYPE\n",
        "from(\n",
        "select t1.*, \n",
        "       t2.ADMITTIME AS NEXT_ADMITTIME, \n",
        "       CASE WHEN t2.ADMISSION_TYPE='ELECTIVE' THEN NULL else t2.ADMISSION_TYPE end as NEXT_ADMISSION_TYPE \n",
        "from admission_row_num t1 left join admission_row_num t2 on t1.SUBJECT_ID = t2.SUBJECT_ID AND t2.row_num -1 = t1.row_num) subt\n",
        "\"\"\")"
      ],
      "execution_count": 0,
      "outputs": []
    },
    {
      "cell_type": "code",
      "metadata": {
        "id": "LG1zo50h9aLC",
        "colab_type": "code",
        "colab": {
          "base_uri": "https://localhost:8080/",
          "height": 289
        },
        "outputId": "202fbd16-3e63-4b1b-ec46-48c9c5c1fc74"
      },
      "source": [
        "df_admission_shifted.show(10)"
      ],
      "execution_count": 66,
      "outputs": [
        {
          "output_type": "stream",
          "text": [
            "+----------+-------+-------------------+-------------------+-------------------+--------------+--------------+-------------------+\n",
            "|SUBJECT_ID|HADM_ID|          DISCHTIME|          DEATHTIME|          ADMITTIME|ADMISSION_TYPE|NEXT_ADMITTIME|NEXT_ADMISSION_TYPE|\n",
            "+----------+-------+-------------------+-------------------+-------------------+--------------+--------------+-------------------+\n",
            "|       148| 199488|2107-10-08 13:35:00|               null|2107-09-05 14:58:00|     EMERGENCY|          null|               null|\n",
            "|       463| 197296|2198-10-09 16:41:00|               null|2198-10-05 16:43:00|     EMERGENCY|          null|               null|\n",
            "|       471| 135879|2122-07-30 17:50:00|2122-07-30 17:50:00|2122-07-22 14:04:00|     EMERGENCY|          null|               null|\n",
            "|       833| 179120|2137-05-27 14:19:00|               null|2137-05-23 04:46:00|       NEWBORN|          null|               null|\n",
            "|      1088| 172055|2170-04-08 17:20:00|               null|2170-03-22 05:20:00|     EMERGENCY|          null|               null|\n",
            "|      1238| 128225|2197-03-29 15:30:00|               null|2197-03-27 07:21:00|       NEWBORN|          null|               null|\n",
            "|      1342| 178263|2107-03-19 15:14:00|2107-03-19 15:14:00|2107-02-27 23:11:00|     EMERGENCY|          null|               null|\n",
            "|      1580| 111714|2126-03-07 12:45:00|               null|2126-02-23 18:08:00|     EMERGENCY|          null|               null|\n",
            "|      1591| 106444|2106-04-03 12:53:00|               null|2106-04-01 12:17:00|       NEWBORN|          null|               null|\n",
            "|      1645| 162996|2147-03-16 14:05:00|               null|2147-03-06 07:15:00|      ELECTIVE|          null|               null|\n",
            "+----------+-------+-------------------+-------------------+-------------------+--------------+--------------+-------------------+\n",
            "only showing top 10 rows\n",
            "\n"
          ],
          "name": "stdout"
        }
      ]
    },
    {
      "cell_type": "code",
      "metadata": {
        "id": "0U7VYnnTWoW9",
        "colab_type": "code",
        "colab": {}
      },
      "source": [
        "# backfill data\n",
        "def fill_backward(df, id_column, key_column, fill_column):\n",
        "\n",
        "    # Fill null's with last *non null* value in the window\n",
        "    ff = df.withColumn(\n",
        "        'fill_bwd',\n",
        "        F.last(fill_column, True) # True: fill with last non-null\n",
        "        .over(\n",
        "            Window.partitionBy(id_column)\n",
        "            .orderBy(desc(key_column))\n",
        "            .rowsBetween(-sys.maxsize, 0))\n",
        "        )\n",
        "\n",
        "    # Drop the old column and rename the new column\n",
        "    ff_out = ff.drop(fill_column).withColumnRenamed('fill_bwd', fill_column)\n",
        "\n",
        "    return ff_out"
      ],
      "execution_count": 0,
      "outputs": []
    },
    {
      "cell_type": "code",
      "metadata": {
        "id": "KORmWwEOXISd",
        "colab_type": "code",
        "colab": {}
      },
      "source": [
        "df_admission_shifted = df_admission_shifted.sort(asc('SUBJECT_ID'), asc('ADMITTIME'))\n",
        "df_readmit = fill_backward(df_admission_shifted, \"SUBJECT_ID\", \"ADMITTIME\", \"NEXT_ADMITTIME\")\n",
        "df_readmit = fill_backward(df_readmit, \"SUBJECT_ID\", \"ADMITTIME\", \"NEXT_ADMISSION_TYPE\")"
      ],
      "execution_count": 0,
      "outputs": []
    },
    {
      "cell_type": "code",
      "metadata": {
        "id": "Vp8WF9p-gjnm",
        "colab_type": "code",
        "colab": {
          "base_uri": "https://localhost:8080/",
          "height": 187
        },
        "outputId": "473c83dd-105b-41f2-eef4-92cdedeb878c"
      },
      "source": [
        "df_readmit.printSchema()"
      ],
      "execution_count": 69,
      "outputs": [
        {
          "output_type": "stream",
          "text": [
            "root\n",
            " |-- SUBJECT_ID: integer (nullable = true)\n",
            " |-- HADM_ID: integer (nullable = true)\n",
            " |-- DISCHTIME: timestamp (nullable = true)\n",
            " |-- DEATHTIME: timestamp (nullable = true)\n",
            " |-- ADMITTIME: timestamp (nullable = true)\n",
            " |-- ADMISSION_TYPE: string (nullable = true)\n",
            " |-- NEXT_ADMITTIME: timestamp (nullable = true)\n",
            " |-- NEXT_ADMISSION_TYPE: string (nullable = true)\n",
            "\n"
          ],
          "name": "stdout"
        }
      ]
    },
    {
      "cell_type": "code",
      "metadata": {
        "id": "1oUHMZRQYCbo",
        "colab_type": "code",
        "colab": {}
      },
      "source": [
        "# res.show(100)\n",
        "timeFmt = \"yyyy-MM-dd'T'HH:mm:ss.SSS\"\n",
        "timeDiff = (F.unix_timestamp('NEXT_ADMITTIME', format=timeFmt)\n",
        "            - F.unix_timestamp('ADMITTIME', format=timeFmt))\n",
        "\n",
        "# res = res.withColumn(\"DAYS_NEXT_ADMIT\", timeDiff / 86400)\n",
        "\n",
        "df_readmit = df_readmit.withColumn(\"DAYS_NEXT_ADMIT\", F.datediff('NEXT_ADMITTIME', 'ADMITTIME'))"
      ],
      "execution_count": 0,
      "outputs": []
    },
    {
      "cell_type": "code",
      "metadata": {
        "id": "RLK141hgAdJb",
        "colab_type": "code",
        "colab": {
          "base_uri": "https://localhost:8080/",
          "height": 1000
        },
        "outputId": "f0cadac0-f2e0-4385-f31a-5091465408c2"
      },
      "source": [
        "df_readmit.show(100)"
      ],
      "execution_count": 71,
      "outputs": [
        {
          "output_type": "stream",
          "text": [
            "+----------+-------+-------------------+-------------------+-------------------+--------------+-------------------+-------------------+---------------+\n",
            "|SUBJECT_ID|HADM_ID|          DISCHTIME|          DEATHTIME|          ADMITTIME|ADMISSION_TYPE|     NEXT_ADMITTIME|NEXT_ADMISSION_TYPE|DAYS_NEXT_ADMIT|\n",
            "+----------+-------+-------------------+-------------------+-------------------+--------------+-------------------+-------------------+---------------+\n",
            "|       148| 199488|2107-10-08 13:35:00|               null|2107-09-05 14:58:00|     EMERGENCY|               null|               null|           null|\n",
            "|       463| 197296|2198-10-09 16:41:00|               null|2198-10-05 16:43:00|     EMERGENCY|               null|               null|           null|\n",
            "|       471| 135879|2122-07-30 17:50:00|2122-07-30 17:50:00|2122-07-22 14:04:00|     EMERGENCY|               null|               null|           null|\n",
            "|       833| 179120|2137-05-27 14:19:00|               null|2137-05-23 04:46:00|       NEWBORN|               null|               null|           null|\n",
            "|      1088| 172055|2170-04-08 17:20:00|               null|2170-03-22 05:20:00|     EMERGENCY|               null|               null|           null|\n",
            "|      1238| 128225|2197-03-29 15:30:00|               null|2197-03-27 07:21:00|       NEWBORN|               null|               null|           null|\n",
            "|      1342| 178263|2107-03-19 15:14:00|2107-03-19 15:14:00|2107-02-27 23:11:00|     EMERGENCY|               null|               null|           null|\n",
            "|      1580| 111714|2126-03-07 12:45:00|               null|2126-02-23 18:08:00|     EMERGENCY|               null|               null|           null|\n",
            "|      1591| 106444|2106-04-03 12:53:00|               null|2106-04-01 12:17:00|       NEWBORN|               null|               null|           null|\n",
            "|      1645| 162996|2147-03-16 14:05:00|               null|2147-03-06 07:15:00|      ELECTIVE|               null|               null|           null|\n",
            "|      1829| 108935|2187-05-01 15:45:00|               null|2187-04-17 14:00:00|     EMERGENCY|               null|               null|           null|\n",
            "|      1959| 136513|2147-03-26 10:54:00|               null|2147-03-24 08:02:00|       NEWBORN|               null|               null|           null|\n",
            "|      2122| 185063|2158-04-16 10:36:00|               null|2158-04-11 05:22:00|     EMERGENCY|               null|               null|           null|\n",
            "|      2142| 157922|2171-05-13 10:42:00|               null|2171-05-11 09:36:00|       NEWBORN|               null|               null|           null|\n",
            "|      2366| 144105|2150-02-13 13:07:00|               null|2149-11-14 20:28:00|     EMERGENCY|               null|               null|           null|\n",
            "|      2659| 181950|2172-09-01 12:22:00|               null|2172-08-31 13:29:00|     EMERGENCY|               null|               null|           null|\n",
            "|      3175| 185852|2138-04-01 16:32:00|               null|2138-03-26 11:26:00|     EMERGENCY|               null|               null|           null|\n",
            "|      3794| 131087|2107-02-03 19:00:00|2107-02-03 19:00:00|2107-01-25 17:04:00|     EMERGENCY|               null|               null|           null|\n",
            "|      3918| 115437|2181-07-05 16:05:00|               null|2181-06-25 23:39:00|     EMERGENCY|               null|               null|           null|\n",
            "|      3997| 109247|2105-09-03 20:05:00|               null|2105-08-24 07:15:00|      ELECTIVE|               null|               null|           null|\n",
            "|      4101| 112623|2106-09-19 15:36:00|               null|2106-09-17 11:45:00|      ELECTIVE|               null|               null|           null|\n",
            "|      4101| 161951|2103-01-30 13:55:00|               null|2103-01-22 18:01:00|     EMERGENCY|               null|               null|           null|\n",
            "|      4519| 121189|2145-08-05 15:08:00|               null|2145-08-02 08:50:00|       NEWBORN|               null|               null|           null|\n",
            "|      4818| 162297|2172-02-09 12:55:00|               null|2172-02-05 03:00:00|       NEWBORN|               null|               null|           null|\n",
            "|      4900| 115281|2203-10-31 13:51:00|               null|2203-10-26 13:15:00|      ELECTIVE|               null|               null|           null|\n",
            "|      4900| 117413|2203-07-08 14:52:00|               null|2203-06-29 08:00:00|      ELECTIVE|               null|               null|           null|\n",
            "|      4900| 196122|2193-04-22 12:05:00|               null|2193-04-17 08:00:00|      ELECTIVE|               null|               null|           null|\n",
            "|      4935| 166829|2119-02-09 16:35:00|               null|2119-01-19 21:11:00|     EMERGENCY|               null|               null|           null|\n",
            "|      5156| 140684|2134-04-30 11:30:00|               null|2134-04-28 04:07:00|       NEWBORN|               null|               null|           null|\n",
            "|      5300| 165512|2124-03-01 13:54:00|               null|2124-02-28 11:34:00|       NEWBORN|               null|               null|           null|\n",
            "|      5518| 161291|2117-08-14 14:15:00|               null|2117-04-12 21:45:00|      ELECTIVE|               null|               null|           null|\n",
            "|      5803| 108321|2173-01-02 13:20:00|               null|2172-12-31 19:22:00|     EMERGENCY|               null|               null|           null|\n",
            "|      6336| 124369|2127-12-05 21:47:00|               null|2127-11-19 17:39:00|     EMERGENCY|               null|               null|           null|\n",
            "|      6357| 183125|2130-09-30 11:30:00|               null|2130-09-28 10:07:00|       NEWBORN|               null|               null|           null|\n",
            "|      6397| 139429|2163-06-11 13:30:00|               null|2163-06-05 07:15:00|      ELECTIVE|               null|               null|           null|\n",
            "|      6466| 165091|2181-10-22 15:54:00|               null|2181-09-05 20:55:00|     EMERGENCY|               null|               null|           null|\n",
            "|      6466| 195703|2180-05-16 17:55:00|               null|2180-04-29 17:12:00|        URGENT|2181-09-05 20:55:00|          EMERGENCY|            494|\n",
            "|      6466| 185829|2178-07-27 16:33:00|               null|2178-07-09 16:27:00|     EMERGENCY|2180-04-29 17:12:00|             URGENT|            660|\n",
            "|      6620| 140314|2134-03-08 16:45:00|               null|2134-02-27 16:23:00|     EMERGENCY|               null|               null|           null|\n",
            "|      6654| 132971|2129-11-15 12:00:00|2129-11-15 12:00:00|2129-11-07 01:10:00|     EMERGENCY|               null|               null|           null|\n",
            "|      6658| 137737|2123-10-27 14:55:00|               null|2123-10-16 22:09:00|     EMERGENCY|               null|               null|           null|\n",
            "|      7240| 126760|2147-12-10 12:02:00|               null|2147-12-08 06:35:00|       NEWBORN|               null|               null|           null|\n",
            "|      7253| 182255|2172-08-04 17:27:00|               null|2172-07-30 18:32:00|     EMERGENCY|               null|               null|           null|\n",
            "|      7253| 172039|2167-11-04 18:00:00|               null|2167-10-28 09:04:00|     EMERGENCY|2172-07-30 18:32:00|          EMERGENCY|           1737|\n",
            "|      7340| 186783|2102-12-12 12:03:00|               null|2102-12-08 22:23:00|     EMERGENCY|               null|               null|           null|\n",
            "|      7554| 118388|2191-11-21 17:25:00|               null|2191-11-06 19:51:00|     EMERGENCY|               null|               null|           null|\n",
            "|      7554| 188531|2191-04-18 16:10:00|               null|2191-04-04 18:10:00|     EMERGENCY|2191-11-06 19:51:00|          EMERGENCY|            216|\n",
            "|      7754| 118556|2195-10-02 16:23:00|               null|2195-09-17 08:29:00|       NEWBORN|               null|               null|           null|\n",
            "|      7833| 107693|2142-01-07 13:04:00|               null|2142-01-05 12:29:00|       NEWBORN|               null|               null|           null|\n",
            "|      7880| 184025|2165-12-01 18:50:00|2165-12-01 18:50:00|2165-12-01 15:09:00|     EMERGENCY|               null|               null|           null|\n",
            "|      7880| 172698|2165-12-01 08:00:00|2165-12-01 08:00:00|2165-11-30 02:27:00|     EMERGENCY|2165-12-01 15:09:00|          EMERGENCY|              1|\n",
            "|      7982| 119945|2180-04-21 13:30:00|               null|2180-03-16 05:07:00|       NEWBORN|               null|               null|           null|\n",
            "|      7993| 185219|2161-01-20 14:45:00|               null|2161-01-18 08:52:00|     EMERGENCY|               null|               null|           null|\n",
            "|      8086| 194197|2145-09-15 13:35:00|               null|2145-08-19 15:52:00|     EMERGENCY|               null|               null|           null|\n",
            "|      8086| 178776|2145-07-05 14:15:00|               null|2145-06-22 14:55:00|     EMERGENCY|2145-08-19 15:52:00|          EMERGENCY|             58|\n",
            "|      8389| 122962|2111-11-22 05:15:00|2111-11-22 05:15:00|2111-11-15 03:02:00|     EMERGENCY|               null|               null|           null|\n",
            "|      8389| 176340|2111-05-28 16:30:00|               null|2111-05-14 23:59:00|     EMERGENCY|2111-11-15 03:02:00|          EMERGENCY|            185|\n",
            "|      8592| 170333|2148-09-04 11:23:00|               null|2148-09-02 06:46:00|       NEWBORN|               null|               null|           null|\n",
            "|      8638| 114643|2132-03-04 16:30:00|               null|2132-02-27 16:33:00|       NEWBORN|               null|               null|           null|\n",
            "|      9376| 195808|2166-10-05 17:15:00|               null|2166-10-04 08:14:00|     EMERGENCY|               null|               null|           null|\n",
            "|      9427| 116758|2101-03-14 17:40:00|               null|2101-03-07 02:07:00|     EMERGENCY|               null|               null|           null|\n",
            "|      9465| 129486|2164-10-17 03:01:00|2164-10-17 03:01:00|2164-09-19 10:30:00|     EMERGENCY|               null|               null|           null|\n",
            "|      9852| 159764|2153-06-08 14:40:00|               null|2153-06-04 11:15:00|      ELECTIVE|               null|               null|           null|\n",
            "|      9900| 102643|2153-01-18 17:00:00|               null|2153-01-04 18:27:00|     EMERGENCY|               null|               null|           null|\n",
            "|      9900| 187684|2151-01-22 11:22:00|               null|2151-01-10 18:59:00|      ELECTIVE|2153-01-04 18:27:00|          EMERGENCY|            725|\n",
            "|      9900| 166180|2150-12-30 13:58:00|               null|2150-12-07 14:00:00|      ELECTIVE|2153-01-04 18:27:00|          EMERGENCY|            759|\n",
            "|     10206| 163365|2154-04-05 14:37:00|               null|2154-03-13 12:00:00|     EMERGENCY|               null|               null|           null|\n",
            "|     10206| 165403|2150-12-29 10:45:00|               null|2150-12-02 22:59:00|     EMERGENCY|2154-03-13 12:00:00|          EMERGENCY|           1197|\n",
            "|     10623| 147264|2169-02-11 17:20:00|               null|2169-02-07 18:49:00|     EMERGENCY|               null|               null|           null|\n",
            "|     10623| 181733|2162-05-02 11:50:00|               null|2162-04-19 19:21:00|     EMERGENCY|2169-02-07 18:49:00|          EMERGENCY|           2486|\n",
            "|     10817| 120284|2137-02-22 21:00:00|2137-02-22 21:00:00|2137-02-18 00:10:00|     EMERGENCY|               null|               null|           null|\n",
            "|     11033| 111376|2109-05-15 16:11:00|               null|2109-05-09 13:49:00|     EMERGENCY|               null|               null|           null|\n",
            "|     11141| 161651|2138-01-27 14:30:00|               null|2138-01-17 16:55:00|     EMERGENCY|               null|               null|           null|\n",
            "|     11317| 150323|2134-02-07 14:30:00|               null|2134-02-02 02:33:00|     EMERGENCY|               null|               null|           null|\n",
            "|     11317| 164777|2133-07-13 13:25:00|               null|2133-07-09 15:30:00|      ELECTIVE|2134-02-02 02:33:00|          EMERGENCY|            208|\n",
            "|     11458| 150759|2134-03-26 13:30:00|               null|2134-03-13 15:26:00|       NEWBORN|               null|               null|           null|\n",
            "|     11748| 187928|2137-08-15 13:10:00|               null|2137-08-11 23:24:00|     EMERGENCY|               null|               null|           null|\n",
            "|     11858| 177531|2163-01-24 21:31:00|2163-01-24 21:31:00|2163-01-21 21:20:00|     EMERGENCY|               null|               null|           null|\n",
            "|     12027| 102122|2123-04-16 16:45:00|               null|2123-04-13 09:45:00|      ELECTIVE|               null|               null|           null|\n",
            "|     12046| 188024|2170-11-15 13:00:00|               null|2170-11-11 12:30:00|       NEWBORN|               null|               null|           null|\n",
            "|     12799| 120131|2202-05-08 00:15:00|2202-05-08 00:15:00|2202-04-02 11:26:00|     EMERGENCY|               null|               null|           null|\n",
            "|     12799| 119643|2199-01-18 19:20:00|               null|2199-01-03 14:42:00|     EMERGENCY|2202-04-02 11:26:00|          EMERGENCY|           1184|\n",
            "|     12799| 152482|2198-08-05 16:33:00|               null|2198-07-20 00:42:00|     EMERGENCY|2199-01-03 14:42:00|          EMERGENCY|            167|\n",
            "|     12940| 170525|2197-07-29 18:28:00|               null|2197-07-28 10:30:00|      ELECTIVE|               null|               null|           null|\n",
            "|     12940| 199865|2197-03-16 18:40:00|               null|2197-03-10 00:28:00|     EMERGENCY|               null|               null|           null|\n",
            "|     13289| 165604|2103-11-22 16:35:00|               null|2103-11-12 09:00:00|      ELECTIVE|               null|               null|           null|\n",
            "|     13289| 119078|2103-08-09 13:20:00|               null|2103-07-26 09:24:00|     EMERGENCY|               null|               null|           null|\n",
            "|     13623| 176071|2106-07-22 18:45:00|               null|2106-06-30 19:16:00|     EMERGENCY|               null|               null|           null|\n",
            "|     13832| 180783|2114-07-17 18:00:00|               null|2114-06-22 09:09:00|       NEWBORN|               null|               null|           null|\n",
            "|     13840| 103467|2172-11-09 13:05:00|               null|2172-10-30 15:05:00|        URGENT|               null|               null|           null|\n",
            "|     14450| 154608|2174-08-09 16:05:00|               null|2174-08-02 08:39:00|     EMERGENCY|               null|               null|           null|\n",
            "|     14570| 166162|2109-11-01 13:05:00|               null|2109-10-28 09:23:00|       NEWBORN|               null|               null|           null|\n",
            "|     14832| 167529|2115-08-23 14:08:00|               null|2115-08-21 04:47:00|       NEWBORN|               null|               null|           null|\n",
            "|     15447| 147533|2195-12-11 19:04:00|               null|2195-12-07 00:31:00|     EMERGENCY|               null|               null|           null|\n",
            "|     15619| 175622|2109-11-20 13:30:00|               null|2109-10-30 13:24:00|     EMERGENCY|               null|               null|           null|\n",
            "|     15727| 138879|2193-04-15 13:20:00|               null|2193-03-31 01:27:00|     EMERGENCY|               null|               null|           null|\n",
            "|     15727| 131370|2193-03-27 10:24:00|               null|2193-03-22 20:05:00|     EMERGENCY|2193-03-31 01:27:00|          EMERGENCY|              9|\n",
            "|     15846| 195641|2133-04-26 12:00:00|               null|2133-04-06 07:15:00|      ELECTIVE|               null|               null|           null|\n",
            "|     16339| 144584|2199-12-22 16:30:00|               null|2199-12-19 01:23:00|       NEWBORN|               null|               null|           null|\n",
            "|     16386| 118918|2138-06-12 13:08:00|               null|2138-06-09 15:31:00|       NEWBORN|               null|               null|           null|\n",
            "+----------+-------+-------------------+-------------------+-------------------+--------------+-------------------+-------------------+---------------+\n",
            "only showing top 100 rows\n",
            "\n"
          ],
          "name": "stdout"
        }
      ]
    },
    {
      "cell_type": "code",
      "metadata": {
        "id": "XRipQxHwhTkY",
        "colab_type": "code",
        "colab": {
          "base_uri": "https://localhost:8080/",
          "height": 187
        },
        "outputId": "1f38ef59-432b-45f0-aa06-19f39d7ded03"
      },
      "source": [
        "# res.show(100)\n",
        "df_readmit[['DAYS_NEXT_ADMIT']].describe().show()"
      ],
      "execution_count": 72,
      "outputs": [
        {
          "output_type": "stream",
          "text": [
            "+-------+------------------+\n",
            "|summary|   DAYS_NEXT_ADMIT|\n",
            "+-------+------------------+\n",
            "|  count|             11399|\n",
            "|   mean|420.37599789455214|\n",
            "| stddev| 638.6542232864784|\n",
            "|    min|                 0|\n",
            "|    max|              4121|\n",
            "+-------+------------------+\n",
            "\n"
          ],
          "name": "stdout"
        }
      ]
    },
    {
      "cell_type": "code",
      "metadata": {
        "id": "_MNFIOjGlcz5",
        "colab_type": "code",
        "colab": {}
      },
      "source": [
        "# res.write.csv('processed_admit.csv')\n",
        "# df_readmit.toPandas().to_csv('processed_admit_2.csv')"
      ],
      "execution_count": 0,
      "outputs": []
    },
    {
      "cell_type": "code",
      "metadata": {
        "id": "ZMNhzJhtmxRm",
        "colab_type": "code",
        "colab": {}
      },
      "source": [
        "# load csv to spark dataframe, got some errors\n",
        "# noteevents_file_loc = './mimic-iii-clinical-database-1.4/NOTEEVENTS.csv'\n",
        "# df_noteevents = spark.read.csv(noteevents_file_loc, inferSchema=True, header=True, delimiter)"
      ],
      "execution_count": 0,
      "outputs": []
    },
    {
      "cell_type": "code",
      "metadata": {
        "id": "hHSztbOY16uP",
        "colab_type": "code",
        "colab": {
          "base_uri": "https://localhost:8080/",
          "height": 71
        },
        "outputId": "89c62cfc-6b13-4e52-f70f-ceca2c7efcc4"
      },
      "source": [
        "import pandas as pd\n",
        "from pyspark.sql.types import *\n",
        "\n",
        "# use pandas to load data, got out of memory erro when using spark\n",
        "note_file_path = \"./mimic-iii-clinical-database-1.4/NOTEEVENTS.csv\"\n",
        "df_notes = pd.read_csv(note_file_path, dtype={'TEXT': str})\n",
        "# df_note = spark.createDataFrame(pd_notes)\n",
        "df_notes = df_notes[['SUBJECT_ID', 'HADM_ID', 'CATEGORY', 'TEXT']]"
      ],
      "execution_count": 53,
      "outputs": [
        {
          "output_type": "stream",
          "text": [
            "/usr/local/lib/python3.6/dist-packages/IPython/core/interactiveshell.py:2718: DtypeWarning: Columns (4,5) have mixed types. Specify dtype option on import or set low_memory=False.\n",
            "  interactivity=interactivity, compiler=compiler, result=result)\n"
          ],
          "name": "stderr"
        }
      ]
    },
    {
      "cell_type": "code",
      "metadata": {
        "id": "qvgKMXnHFNtd",
        "colab_type": "code",
        "colab": {
          "base_uri": "https://localhost:8080/",
          "height": 204
        },
        "outputId": "1f2fcc1b-c0f6-4f83-84a3-2e19e4a8ff35"
      },
      "source": [
        "df_notes.head()"
      ],
      "execution_count": 54,
      "outputs": [
        {
          "output_type": "execute_result",
          "data": {
            "text/html": [
              "<div>\n",
              "<style scoped>\n",
              "    .dataframe tbody tr th:only-of-type {\n",
              "        vertical-align: middle;\n",
              "    }\n",
              "\n",
              "    .dataframe tbody tr th {\n",
              "        vertical-align: top;\n",
              "    }\n",
              "\n",
              "    .dataframe thead th {\n",
              "        text-align: right;\n",
              "    }\n",
              "</style>\n",
              "<table border=\"1\" class=\"dataframe\">\n",
              "  <thead>\n",
              "    <tr style=\"text-align: right;\">\n",
              "      <th></th>\n",
              "      <th>SUBJECT_ID</th>\n",
              "      <th>HADM_ID</th>\n",
              "      <th>CATEGORY</th>\n",
              "      <th>TEXT</th>\n",
              "    </tr>\n",
              "  </thead>\n",
              "  <tbody>\n",
              "    <tr>\n",
              "      <th>0</th>\n",
              "      <td>22532</td>\n",
              "      <td>167853.0</td>\n",
              "      <td>Discharge summary</td>\n",
              "      <td>Admission Date:  [**2151-7-16**]       Dischar...</td>\n",
              "    </tr>\n",
              "    <tr>\n",
              "      <th>1</th>\n",
              "      <td>13702</td>\n",
              "      <td>107527.0</td>\n",
              "      <td>Discharge summary</td>\n",
              "      <td>Admission Date:  [**2118-6-2**]       Discharg...</td>\n",
              "    </tr>\n",
              "    <tr>\n",
              "      <th>2</th>\n",
              "      <td>13702</td>\n",
              "      <td>167118.0</td>\n",
              "      <td>Discharge summary</td>\n",
              "      <td>Admission Date:  [**2119-5-4**]              D...</td>\n",
              "    </tr>\n",
              "    <tr>\n",
              "      <th>3</th>\n",
              "      <td>13702</td>\n",
              "      <td>196489.0</td>\n",
              "      <td>Discharge summary</td>\n",
              "      <td>Admission Date:  [**2124-7-21**]              ...</td>\n",
              "    </tr>\n",
              "    <tr>\n",
              "      <th>4</th>\n",
              "      <td>26880</td>\n",
              "      <td>135453.0</td>\n",
              "      <td>Discharge summary</td>\n",
              "      <td>Admission Date:  [**2162-3-3**]              D...</td>\n",
              "    </tr>\n",
              "  </tbody>\n",
              "</table>\n",
              "</div>"
            ],
            "text/plain": [
              "   SUBJECT_ID  ...                                               TEXT\n",
              "0       22532  ...  Admission Date:  [**2151-7-16**]       Dischar...\n",
              "1       13702  ...  Admission Date:  [**2118-6-2**]       Discharg...\n",
              "2       13702  ...  Admission Date:  [**2119-5-4**]              D...\n",
              "3       13702  ...  Admission Date:  [**2124-7-21**]              ...\n",
              "4       26880  ...  Admission Date:  [**2162-3-3**]              D...\n",
              "\n",
              "[5 rows x 4 columns]"
            ]
          },
          "metadata": {
            "tags": []
          },
          "execution_count": 54
        }
      ]
    },
    {
      "cell_type": "code",
      "metadata": {
        "id": "GLQWW6w_DhYV",
        "colab_type": "code",
        "colab": {
          "base_uri": "https://localhost:8080/",
          "height": 51
        },
        "outputId": "1e42b94d-01ca-4f80-8d90-8fb7c4577dfe"
      },
      "source": [
        "# merge df_readmit and df_notes\n",
        "df_notes_selected = df_notes.loc[df_notes.CATEGORY == 'Discharge summary']\n",
        "\n",
        "# choose the last note summary\n",
        "df_notes_selected = (df_notes_selected.groupby(['SUBJECT_ID','HADM_ID']).nth(-1)).reset_index()\n",
        "\n",
        "df_readmit_notes = pd.merge(df_readmit.toPandas()[['SUBJECT_ID','HADM_ID','ADMITTIME','DISCHTIME','DAYS_NEXT_ADMIT',\\\n",
        "                                'NEXT_ADMITTIME','ADMISSION_TYPE','DEATHTIME']],\n",
        "                        df_notes_selected[['SUBJECT_ID','HADM_ID','TEXT']], \n",
        "                        on = ['SUBJECT_ID','HADM_ID'],\n",
        "                        how = 'left')\n",
        "# assert len(df_readmit.toPandas()) == len(df_adm_notes), 'Number of rows increased'"
      ],
      "execution_count": 85,
      "outputs": [
        {
          "output_type": "stream",
          "text": [
            "/usr/local/lib/python3.6/dist-packages/pyarrow/__init__.py:157: UserWarning: pyarrow.open_stream is deprecated, please use pyarrow.ipc.open_stream\n",
            "  warnings.warn(\"pyarrow.open_stream is deprecated, please use \"\n"
          ],
          "name": "stderr"
        }
      ]
    },
    {
      "cell_type": "code",
      "metadata": {
        "id": "e4eQzCsL-cbq",
        "colab_type": "code",
        "colab": {}
      },
      "source": [
        "df_readmit_notes.groupby('ADMISSION_TYPE').apply(\n",
        "    lambda g: g.TEXT.isnull().sum())/df_readmit_notes.groupby('ADMISSION_TYPE').size()\n",
        "\n",
        "# remove newborn type\n",
        "df_readmit_notes_clean = df_readmit_notes.loc[df_readmit_notes.ADMISSION_TYPE != 'NEWBORN'].copy()"
      ],
      "execution_count": 0,
      "outputs": []
    },
    {
      "cell_type": "code",
      "metadata": {
        "id": "cXKuw4GJ0ZKa",
        "colab_type": "code",
        "colab": {}
      },
      "source": [
        "# consider 30 re-admission\n",
        "df_readmit_notes_clean['OUTPUT_LABEL'] = (df_readmit_notes_clean.DAYS_NEXT_ADMIT < 30).astype('int')"
      ],
      "execution_count": 0,
      "outputs": []
    },
    {
      "cell_type": "code",
      "metadata": {
        "id": "-4Zf-p6OF6A4",
        "colab_type": "code",
        "colab": {
          "base_uri": "https://localhost:8080/",
          "height": 51
        },
        "outputId": "2df78605-082f-4a59-d9b5-2cd0376acf33"
      },
      "source": [
        "df_readmit_notes_clean[['OUTPUT_LABEL']].sum()"
      ],
      "execution_count": 89,
      "outputs": [
        {
          "output_type": "execute_result",
          "data": {
            "text/plain": [
              "OUTPUT_LABEL    2139\n",
              "dtype: int64"
            ]
          },
          "metadata": {
            "tags": []
          },
          "execution_count": 89
        }
      ]
    },
    {
      "cell_type": "code",
      "metadata": {
        "id": "7EokMhwxTMI3",
        "colab_type": "code",
        "colab": {}
      },
      "source": [
        "# generate training/testing data\n",
        "# shuffle the samples\n",
        "df_readmit_notes_clean = df_readmit_notes_clean.sample(n=len(df_readmit_notes_clean), random_state=1024).reset_index(drop=True)\n",
        "\n",
        "# prepare validation and test data \n",
        "df_valid_test = df_readmit_notes_clean.sample(frac=0.30, random_state=1024)\n",
        "df_test = df_valid_test.sample(frac=0.5, random_state=1024)\n",
        "df_valid = df_valid_test.drop(df_test.index)\n",
        "\n",
        "# prepare training data\n",
        "df_train_all = df_readmit_notes_clean.drop(df_valid_test.index)"
      ],
      "execution_count": 0,
      "outputs": []
    },
    {
      "cell_type": "code",
      "metadata": {
        "id": "iKxHC_BkTYm4",
        "colab_type": "code",
        "colab": {}
      },
      "source": [
        ""
      ],
      "execution_count": 0,
      "outputs": []
    },
    {
      "cell_type": "code",
      "metadata": {
        "id": "W5bxDz78TYuC",
        "colab_type": "code",
        "colab": {}
      },
      "source": [
        ""
      ],
      "execution_count": 0,
      "outputs": []
    },
    {
      "cell_type": "code",
      "metadata": {
        "id": "BKNmgw6jTYxH",
        "colab_type": "code",
        "colab": {}
      },
      "source": [
        ""
      ],
      "execution_count": 0,
      "outputs": []
    },
    {
      "cell_type": "code",
      "metadata": {
        "id": "LxZ_VCB_TY0i",
        "colab_type": "code",
        "colab": {}
      },
      "source": [
        ""
      ],
      "execution_count": 0,
      "outputs": []
    },
    {
      "cell_type": "code",
      "metadata": {
        "id": "VrWeKuRCTYq8",
        "colab_type": "code",
        "colab": {}
      },
      "source": [
        ""
      ],
      "execution_count": 0,
      "outputs": []
    },
    {
      "cell_type": "code",
      "metadata": {
        "id": "loF24v_T7OK9",
        "colab_type": "code",
        "colab": {}
      },
      "source": [
        "# from pyspark.sql import SparkSession\n",
        "\n",
        "# ss = SparkSession \\\n",
        "#   .builder \\\n",
        "#   .appName(\"Example\") \\\n",
        "#   .config(\"spark.driver.memory\", \"16g\")\\\n",
        "#   .getOrCreate()"
      ],
      "execution_count": 0,
      "outputs": []
    },
    {
      "cell_type": "code",
      "metadata": {
        "id": "BJ9tNOqJ1xxW",
        "colab_type": "code",
        "colab": {
          "base_uri": "https://localhost:8080/",
          "height": 718
        },
        "outputId": "0f495035-e562-4207-e83a-f31f3a1799e3"
      },
      "source": [
        "# Setup a Spark SQL context and read in the pandas dataframe to a Spark df\n",
        "# spark.conf.set(\"spark.sql.execution.arrow.enabled\", \"true\")\n",
        "\n",
        "# df_note = spark.createDataFrame(df_notes)"
      ],
      "execution_count": 25,
      "outputs": [
        {
          "output_type": "stream",
          "text": [
            "spark-2.4.4-bin-hadoop2.7/python/pyspark/sql/session.py:714: UserWarning: createDataFrame attempted Arrow optimization because 'spark.sql.execution.arrow.enabled' is set to true; however, failed by the reason below:\n",
            "  An error occurred while calling z:org.apache.spark.sql.api.python.PythonSQLUtils.readArrowStreamFromFile.\n",
            ": java.lang.OutOfMemoryError: Java heap space\n",
            "\n",
            "Attempting non-optimization as 'spark.sql.execution.arrow.fallback.enabled' is set to true.\n",
            "  warnings.warn(msg)\n"
          ],
          "name": "stderr"
        },
        {
          "output_type": "error",
          "ename": "Py4JJavaError",
          "evalue": "ignored",
          "traceback": [
            "\u001b[0;31m---------------------------------------------------------------------------\u001b[0m",
            "\u001b[0;31mPy4JJavaError\u001b[0m                             Traceback (most recent call last)",
            "\u001b[0;32m<ipython-input-25-b88e99e01fe6>\u001b[0m in \u001b[0;36m<module>\u001b[0;34m()\u001b[0m\n\u001b[1;32m      1\u001b[0m \u001b[0mspark\u001b[0m\u001b[0;34m.\u001b[0m\u001b[0mconf\u001b[0m\u001b[0;34m.\u001b[0m\u001b[0mset\u001b[0m\u001b[0;34m(\u001b[0m\u001b[0;34m\"spark.sql.execution.arrow.enabled\"\u001b[0m\u001b[0;34m,\u001b[0m \u001b[0;34m\"true\"\u001b[0m\u001b[0;34m)\u001b[0m\u001b[0;34m\u001b[0m\u001b[0;34m\u001b[0m\u001b[0m\n\u001b[1;32m      2\u001b[0m \u001b[0;34m\u001b[0m\u001b[0m\n\u001b[0;32m----> 3\u001b[0;31m \u001b[0mdf_note\u001b[0m \u001b[0;34m=\u001b[0m \u001b[0mspark\u001b[0m\u001b[0;34m.\u001b[0m\u001b[0mcreateDataFrame\u001b[0m\u001b[0;34m(\u001b[0m\u001b[0mdf_notes\u001b[0m\u001b[0;34m)\u001b[0m\u001b[0;34m\u001b[0m\u001b[0;34m\u001b[0m\u001b[0m\n\u001b[0m",
            "\u001b[0;32m/content/spark-2.4.4-bin-hadoop2.7/python/pyspark/sql/session.py\u001b[0m in \u001b[0;36mcreateDataFrame\u001b[0;34m(self, data, schema, samplingRatio, verifySchema)\u001b[0m\n\u001b[1;32m    746\u001b[0m             \u001b[0mrdd\u001b[0m\u001b[0;34m,\u001b[0m \u001b[0mschema\u001b[0m \u001b[0;34m=\u001b[0m \u001b[0mself\u001b[0m\u001b[0;34m.\u001b[0m\u001b[0m_createFromRDD\u001b[0m\u001b[0;34m(\u001b[0m\u001b[0mdata\u001b[0m\u001b[0;34m.\u001b[0m\u001b[0mmap\u001b[0m\u001b[0;34m(\u001b[0m\u001b[0mprepare\u001b[0m\u001b[0;34m)\u001b[0m\u001b[0;34m,\u001b[0m \u001b[0mschema\u001b[0m\u001b[0;34m,\u001b[0m \u001b[0msamplingRatio\u001b[0m\u001b[0;34m)\u001b[0m\u001b[0;34m\u001b[0m\u001b[0;34m\u001b[0m\u001b[0m\n\u001b[1;32m    747\u001b[0m         \u001b[0;32melse\u001b[0m\u001b[0;34m:\u001b[0m\u001b[0;34m\u001b[0m\u001b[0;34m\u001b[0m\u001b[0m\n\u001b[0;32m--> 748\u001b[0;31m             \u001b[0mrdd\u001b[0m\u001b[0;34m,\u001b[0m \u001b[0mschema\u001b[0m \u001b[0;34m=\u001b[0m \u001b[0mself\u001b[0m\u001b[0;34m.\u001b[0m\u001b[0m_createFromLocal\u001b[0m\u001b[0;34m(\u001b[0m\u001b[0mmap\u001b[0m\u001b[0;34m(\u001b[0m\u001b[0mprepare\u001b[0m\u001b[0;34m,\u001b[0m \u001b[0mdata\u001b[0m\u001b[0;34m)\u001b[0m\u001b[0;34m,\u001b[0m \u001b[0mschema\u001b[0m\u001b[0;34m)\u001b[0m\u001b[0;34m\u001b[0m\u001b[0;34m\u001b[0m\u001b[0m\n\u001b[0m\u001b[1;32m    749\u001b[0m         \u001b[0mjrdd\u001b[0m \u001b[0;34m=\u001b[0m \u001b[0mself\u001b[0m\u001b[0;34m.\u001b[0m\u001b[0m_jvm\u001b[0m\u001b[0;34m.\u001b[0m\u001b[0mSerDeUtil\u001b[0m\u001b[0;34m.\u001b[0m\u001b[0mtoJavaArray\u001b[0m\u001b[0;34m(\u001b[0m\u001b[0mrdd\u001b[0m\u001b[0;34m.\u001b[0m\u001b[0m_to_java_object_rdd\u001b[0m\u001b[0;34m(\u001b[0m\u001b[0;34m)\u001b[0m\u001b[0;34m)\u001b[0m\u001b[0;34m\u001b[0m\u001b[0;34m\u001b[0m\u001b[0m\n\u001b[1;32m    750\u001b[0m         \u001b[0mjdf\u001b[0m \u001b[0;34m=\u001b[0m \u001b[0mself\u001b[0m\u001b[0;34m.\u001b[0m\u001b[0m_jsparkSession\u001b[0m\u001b[0;34m.\u001b[0m\u001b[0mapplySchemaToPythonRDD\u001b[0m\u001b[0;34m(\u001b[0m\u001b[0mjrdd\u001b[0m\u001b[0;34m.\u001b[0m\u001b[0mrdd\u001b[0m\u001b[0;34m(\u001b[0m\u001b[0;34m)\u001b[0m\u001b[0;34m,\u001b[0m \u001b[0mschema\u001b[0m\u001b[0;34m.\u001b[0m\u001b[0mjson\u001b[0m\u001b[0;34m(\u001b[0m\u001b[0;34m)\u001b[0m\u001b[0;34m)\u001b[0m\u001b[0;34m\u001b[0m\u001b[0;34m\u001b[0m\u001b[0m\n",
            "\u001b[0;32m/content/spark-2.4.4-bin-hadoop2.7/python/pyspark/sql/session.py\u001b[0m in \u001b[0;36m_createFromLocal\u001b[0;34m(self, data, schema)\u001b[0m\n\u001b[1;32m    428\u001b[0m         \u001b[0;31m# convert python objects to sql data\u001b[0m\u001b[0;34m\u001b[0m\u001b[0;34m\u001b[0m\u001b[0;34m\u001b[0m\u001b[0m\n\u001b[1;32m    429\u001b[0m         \u001b[0mdata\u001b[0m \u001b[0;34m=\u001b[0m \u001b[0;34m[\u001b[0m\u001b[0mschema\u001b[0m\u001b[0;34m.\u001b[0m\u001b[0mtoInternal\u001b[0m\u001b[0;34m(\u001b[0m\u001b[0mrow\u001b[0m\u001b[0;34m)\u001b[0m \u001b[0;32mfor\u001b[0m \u001b[0mrow\u001b[0m \u001b[0;32min\u001b[0m \u001b[0mdata\u001b[0m\u001b[0;34m]\u001b[0m\u001b[0;34m\u001b[0m\u001b[0;34m\u001b[0m\u001b[0m\n\u001b[0;32m--> 430\u001b[0;31m         \u001b[0;32mreturn\u001b[0m \u001b[0mself\u001b[0m\u001b[0;34m.\u001b[0m\u001b[0m_sc\u001b[0m\u001b[0;34m.\u001b[0m\u001b[0mparallelize\u001b[0m\u001b[0;34m(\u001b[0m\u001b[0mdata\u001b[0m\u001b[0;34m)\u001b[0m\u001b[0;34m,\u001b[0m \u001b[0mschema\u001b[0m\u001b[0;34m\u001b[0m\u001b[0;34m\u001b[0m\u001b[0m\n\u001b[0m\u001b[1;32m    431\u001b[0m \u001b[0;34m\u001b[0m\u001b[0m\n\u001b[1;32m    432\u001b[0m     \u001b[0;32mdef\u001b[0m \u001b[0m_get_numpy_record_dtype\u001b[0m\u001b[0;34m(\u001b[0m\u001b[0mself\u001b[0m\u001b[0;34m,\u001b[0m \u001b[0mrec\u001b[0m\u001b[0;34m)\u001b[0m\u001b[0;34m:\u001b[0m\u001b[0;34m\u001b[0m\u001b[0;34m\u001b[0m\u001b[0m\n",
            "\u001b[0;32m/content/spark-2.4.4-bin-hadoop2.7/python/pyspark/context.py\u001b[0m in \u001b[0;36mparallelize\u001b[0;34m(self, c, numSlices)\u001b[0m\n\u001b[1;32m    525\u001b[0m             \u001b[0;32mreturn\u001b[0m \u001b[0mself\u001b[0m\u001b[0;34m.\u001b[0m\u001b[0m_jvm\u001b[0m\u001b[0;34m.\u001b[0m\u001b[0mPythonParallelizeServer\u001b[0m\u001b[0;34m(\u001b[0m\u001b[0mself\u001b[0m\u001b[0;34m.\u001b[0m\u001b[0m_jsc\u001b[0m\u001b[0;34m.\u001b[0m\u001b[0msc\u001b[0m\u001b[0;34m(\u001b[0m\u001b[0;34m)\u001b[0m\u001b[0;34m,\u001b[0m \u001b[0mnumSlices\u001b[0m\u001b[0;34m)\u001b[0m\u001b[0;34m\u001b[0m\u001b[0;34m\u001b[0m\u001b[0m\n\u001b[1;32m    526\u001b[0m \u001b[0;34m\u001b[0m\u001b[0m\n\u001b[0;32m--> 527\u001b[0;31m         \u001b[0mjrdd\u001b[0m \u001b[0;34m=\u001b[0m \u001b[0mself\u001b[0m\u001b[0;34m.\u001b[0m\u001b[0m_serialize_to_jvm\u001b[0m\u001b[0;34m(\u001b[0m\u001b[0mc\u001b[0m\u001b[0;34m,\u001b[0m \u001b[0mserializer\u001b[0m\u001b[0;34m,\u001b[0m \u001b[0mreader_func\u001b[0m\u001b[0;34m,\u001b[0m \u001b[0mcreateRDDServer\u001b[0m\u001b[0;34m)\u001b[0m\u001b[0;34m\u001b[0m\u001b[0;34m\u001b[0m\u001b[0m\n\u001b[0m\u001b[1;32m    528\u001b[0m         \u001b[0;32mreturn\u001b[0m \u001b[0mRDD\u001b[0m\u001b[0;34m(\u001b[0m\u001b[0mjrdd\u001b[0m\u001b[0;34m,\u001b[0m \u001b[0mself\u001b[0m\u001b[0;34m,\u001b[0m \u001b[0mserializer\u001b[0m\u001b[0;34m)\u001b[0m\u001b[0;34m\u001b[0m\u001b[0;34m\u001b[0m\u001b[0m\n\u001b[1;32m    529\u001b[0m \u001b[0;34m\u001b[0m\u001b[0m\n",
            "\u001b[0;32m/content/spark-2.4.4-bin-hadoop2.7/python/pyspark/context.py\u001b[0m in \u001b[0;36m_serialize_to_jvm\u001b[0;34m(self, data, serializer, reader_func, createRDDServer)\u001b[0m\n\u001b[1;32m    560\u001b[0m                 \u001b[0;32mfinally\u001b[0m\u001b[0;34m:\u001b[0m\u001b[0;34m\u001b[0m\u001b[0;34m\u001b[0m\u001b[0m\n\u001b[1;32m    561\u001b[0m                     \u001b[0mtempFile\u001b[0m\u001b[0;34m.\u001b[0m\u001b[0mclose\u001b[0m\u001b[0;34m(\u001b[0m\u001b[0;34m)\u001b[0m\u001b[0;34m\u001b[0m\u001b[0;34m\u001b[0m\u001b[0m\n\u001b[0;32m--> 562\u001b[0;31m                 \u001b[0;32mreturn\u001b[0m \u001b[0mreader_func\u001b[0m\u001b[0;34m(\u001b[0m\u001b[0mtempFile\u001b[0m\u001b[0;34m.\u001b[0m\u001b[0mname\u001b[0m\u001b[0;34m)\u001b[0m\u001b[0;34m\u001b[0m\u001b[0;34m\u001b[0m\u001b[0m\n\u001b[0m\u001b[1;32m    563\u001b[0m             \u001b[0;32mfinally\u001b[0m\u001b[0;34m:\u001b[0m\u001b[0;34m\u001b[0m\u001b[0;34m\u001b[0m\u001b[0m\n\u001b[1;32m    564\u001b[0m                 \u001b[0;31m# we eagerily reads the file so we can delete right after.\u001b[0m\u001b[0;34m\u001b[0m\u001b[0;34m\u001b[0m\u001b[0;34m\u001b[0m\u001b[0m\n",
            "\u001b[0;32m/content/spark-2.4.4-bin-hadoop2.7/python/pyspark/context.py\u001b[0m in \u001b[0;36mreader_func\u001b[0;34m(temp_filename)\u001b[0m\n\u001b[1;32m    520\u001b[0m \u001b[0;34m\u001b[0m\u001b[0m\n\u001b[1;32m    521\u001b[0m         \u001b[0;32mdef\u001b[0m \u001b[0mreader_func\u001b[0m\u001b[0;34m(\u001b[0m\u001b[0mtemp_filename\u001b[0m\u001b[0;34m)\u001b[0m\u001b[0;34m:\u001b[0m\u001b[0;34m\u001b[0m\u001b[0;34m\u001b[0m\u001b[0m\n\u001b[0;32m--> 522\u001b[0;31m             \u001b[0;32mreturn\u001b[0m \u001b[0mself\u001b[0m\u001b[0;34m.\u001b[0m\u001b[0m_jvm\u001b[0m\u001b[0;34m.\u001b[0m\u001b[0mPythonRDD\u001b[0m\u001b[0;34m.\u001b[0m\u001b[0mreadRDDFromFile\u001b[0m\u001b[0;34m(\u001b[0m\u001b[0mself\u001b[0m\u001b[0;34m.\u001b[0m\u001b[0m_jsc\u001b[0m\u001b[0;34m,\u001b[0m \u001b[0mtemp_filename\u001b[0m\u001b[0;34m,\u001b[0m \u001b[0mnumSlices\u001b[0m\u001b[0;34m)\u001b[0m\u001b[0;34m\u001b[0m\u001b[0;34m\u001b[0m\u001b[0m\n\u001b[0m\u001b[1;32m    523\u001b[0m \u001b[0;34m\u001b[0m\u001b[0m\n\u001b[1;32m    524\u001b[0m         \u001b[0;32mdef\u001b[0m \u001b[0mcreateRDDServer\u001b[0m\u001b[0;34m(\u001b[0m\u001b[0;34m)\u001b[0m\u001b[0;34m:\u001b[0m\u001b[0;34m\u001b[0m\u001b[0;34m\u001b[0m\u001b[0m\n",
            "\u001b[0;32mspark-2.4.4-bin-hadoop2.7/python/lib/py4j-0.10.7-src.zip/py4j/java_gateway.py\u001b[0m in \u001b[0;36m__call__\u001b[0;34m(self, *args)\u001b[0m\n\u001b[1;32m   1255\u001b[0m         \u001b[0manswer\u001b[0m \u001b[0;34m=\u001b[0m \u001b[0mself\u001b[0m\u001b[0;34m.\u001b[0m\u001b[0mgateway_client\u001b[0m\u001b[0;34m.\u001b[0m\u001b[0msend_command\u001b[0m\u001b[0;34m(\u001b[0m\u001b[0mcommand\u001b[0m\u001b[0;34m)\u001b[0m\u001b[0;34m\u001b[0m\u001b[0;34m\u001b[0m\u001b[0m\n\u001b[1;32m   1256\u001b[0m         return_value = get_return_value(\n\u001b[0;32m-> 1257\u001b[0;31m             answer, self.gateway_client, self.target_id, self.name)\n\u001b[0m\u001b[1;32m   1258\u001b[0m \u001b[0;34m\u001b[0m\u001b[0m\n\u001b[1;32m   1259\u001b[0m         \u001b[0;32mfor\u001b[0m \u001b[0mtemp_arg\u001b[0m \u001b[0;32min\u001b[0m \u001b[0mtemp_args\u001b[0m\u001b[0;34m:\u001b[0m\u001b[0;34m\u001b[0m\u001b[0;34m\u001b[0m\u001b[0m\n",
            "\u001b[0;32m/content/spark-2.4.4-bin-hadoop2.7/python/pyspark/sql/utils.py\u001b[0m in \u001b[0;36mdeco\u001b[0;34m(*a, **kw)\u001b[0m\n\u001b[1;32m     61\u001b[0m     \u001b[0;32mdef\u001b[0m \u001b[0mdeco\u001b[0m\u001b[0;34m(\u001b[0m\u001b[0;34m*\u001b[0m\u001b[0ma\u001b[0m\u001b[0;34m,\u001b[0m \u001b[0;34m**\u001b[0m\u001b[0mkw\u001b[0m\u001b[0;34m)\u001b[0m\u001b[0;34m:\u001b[0m\u001b[0;34m\u001b[0m\u001b[0;34m\u001b[0m\u001b[0m\n\u001b[1;32m     62\u001b[0m         \u001b[0;32mtry\u001b[0m\u001b[0;34m:\u001b[0m\u001b[0;34m\u001b[0m\u001b[0;34m\u001b[0m\u001b[0m\n\u001b[0;32m---> 63\u001b[0;31m             \u001b[0;32mreturn\u001b[0m \u001b[0mf\u001b[0m\u001b[0;34m(\u001b[0m\u001b[0;34m*\u001b[0m\u001b[0ma\u001b[0m\u001b[0;34m,\u001b[0m \u001b[0;34m**\u001b[0m\u001b[0mkw\u001b[0m\u001b[0;34m)\u001b[0m\u001b[0;34m\u001b[0m\u001b[0;34m\u001b[0m\u001b[0m\n\u001b[0m\u001b[1;32m     64\u001b[0m         \u001b[0;32mexcept\u001b[0m \u001b[0mpy4j\u001b[0m\u001b[0;34m.\u001b[0m\u001b[0mprotocol\u001b[0m\u001b[0;34m.\u001b[0m\u001b[0mPy4JJavaError\u001b[0m \u001b[0;32mas\u001b[0m \u001b[0me\u001b[0m\u001b[0;34m:\u001b[0m\u001b[0;34m\u001b[0m\u001b[0;34m\u001b[0m\u001b[0m\n\u001b[1;32m     65\u001b[0m             \u001b[0ms\u001b[0m \u001b[0;34m=\u001b[0m \u001b[0me\u001b[0m\u001b[0;34m.\u001b[0m\u001b[0mjava_exception\u001b[0m\u001b[0;34m.\u001b[0m\u001b[0mtoString\u001b[0m\u001b[0;34m(\u001b[0m\u001b[0;34m)\u001b[0m\u001b[0;34m\u001b[0m\u001b[0;34m\u001b[0m\u001b[0m\n",
            "\u001b[0;32mspark-2.4.4-bin-hadoop2.7/python/lib/py4j-0.10.7-src.zip/py4j/protocol.py\u001b[0m in \u001b[0;36mget_return_value\u001b[0;34m(answer, gateway_client, target_id, name)\u001b[0m\n\u001b[1;32m    326\u001b[0m                 raise Py4JJavaError(\n\u001b[1;32m    327\u001b[0m                     \u001b[0;34m\"An error occurred while calling {0}{1}{2}.\\n\"\u001b[0m\u001b[0;34m.\u001b[0m\u001b[0;34m\u001b[0m\u001b[0;34m\u001b[0m\u001b[0m\n\u001b[0;32m--> 328\u001b[0;31m                     format(target_id, \".\", name), value)\n\u001b[0m\u001b[1;32m    329\u001b[0m             \u001b[0;32melse\u001b[0m\u001b[0;34m:\u001b[0m\u001b[0;34m\u001b[0m\u001b[0;34m\u001b[0m\u001b[0m\n\u001b[1;32m    330\u001b[0m                 raise Py4JError(\n",
            "\u001b[0;31mPy4JJavaError\u001b[0m: An error occurred while calling z:org.apache.spark.api.python.PythonRDD.readRDDFromFile.\n: java.lang.OutOfMemoryError: Java heap space\n"
          ]
        }
      ]
    },
    {
      "cell_type": "code",
      "metadata": {
        "id": "Wll6K5gvzlIk",
        "colab_type": "code",
        "colab": {}
      },
      "source": [
        "# df_admission.show()\n"
      ],
      "execution_count": 0,
      "outputs": []
    },
    {
      "cell_type": "code",
      "metadata": {
        "id": "DPZMk07q1NC0",
        "colab_type": "code",
        "colab": {}
      },
      "source": [
        ""
      ],
      "execution_count": 0,
      "outputs": []
    },
    {
      "cell_type": "code",
      "metadata": {
        "id": "N35Z30Dn1CBV",
        "colab_type": "code",
        "colab": {}
      },
      "source": [
        ""
      ],
      "execution_count": 0,
      "outputs": []
    },
    {
      "cell_type": "code",
      "metadata": {
        "id": "_vzhvII7BQG3",
        "colab_type": "code",
        "colab": {}
      },
      "source": [
        ""
      ],
      "execution_count": 0,
      "outputs": []
    }
  ]
}